{
 "cells": [
  {
   "cell_type": "code",
   "execution_count": 1,
   "metadata": {
    "collapsed": true
   },
   "outputs": [],
   "source": [
    "import pandas as pd\n",
    "import string as st\n",
    "import matplotlib\n",
    "import numpy as np\n",
    "import os\n",
    "from sklearn import decomposition, metrics, cluster\n",
    "\n",
    "%matplotlib inline\n",
    "import matplotlib.pyplot as plt"
   ]
  },
  {
   "cell_type": "code",
   "execution_count": 2,
   "metadata": {
    "collapsed": true
   },
   "outputs": [],
   "source": [
    "#Create list of Journal abbriviations used on the website\n",
    "data_Jabbr = '../data/JDict_data/Jabbr.csv'\n",
    "abbr_names=['Jabbr']\n",
    "df_Jabbr = pd.read_csv(data_Jabbr,names=abbr_names)\n",
    "Jabbr=df_Jabbr['Jabbr'].tolist()\n",
    "# Jabbr=[x.lower() for x in Jabbr]\n",
    "# Jabbr.sort()"
   ]
  },
  {
   "cell_type": "code",
   "execution_count": 3,
   "metadata": {
    "collapsed": true
   },
   "outputs": [],
   "source": [
    "#Create list of Journal file names\n",
    "Jlist = os.listdir('../data/cite_data_2007')\n",
    "if '.DS_Store' in Jlist:\n",
    "    Jlist.remove('.DS_Store')\n",
    "Jlist=[x.lower() for x in Jlist]\n",
    "Jlist.sort()"
   ]
  },
  {
   "cell_type": "code",
   "execution_count": 4,
   "metadata": {
    "collapsed": true
   },
   "outputs": [],
   "source": [
    "#Creates Dictionary for mapping file name to file abbreviation\n",
    "JDict_map=dict(zip(Jabbr, Jlist))\n",
    "df_names=Jlist\n",
    "JMatrix=pd.DataFrame(data=np.zeros((len(Jlist),len(Jlist))), index=df_names, columns= df_names)"
   ]
  },
  {
   "cell_type": "code",
   "execution_count": 5,
   "metadata": {},
   "outputs": [
    {
     "name": "stdout",
     "output_type": "stream",
     "text": [
      "0 american journal of psychology_cited.csv\n",
      "1 behavior research methods_cited.csv\n",
      "2 behavioral and brain sciences_cited.csv\n",
      "3 brain and language_cited.csv\n",
      "4 british journal of psychology_cited.csv\n",
      "5 cogn linguist_cited.csv\n",
      "6 cogn syst res_cited.csv\n",
      "7 cognition_cited.csv\n",
      "8 cognitive psychology_cited.csv\n",
      "9 cognitive science_cited.csv\n",
      "10 computers & education_cited.csv\n",
      "11 computers in human behavior_cited.csv\n",
      "12 contemporary educational psychology_cited.csv\n",
      "13 developmental psychology_cited.csv\n",
      "14 developmental science_cited.csv\n",
      "15 educational psychology review_cited.csv\n",
      "16 etr&d-educational technology research and development_cited.csv\n",
      "17 international journal of human-computer studies_cited.csv\n",
      "18 international journal of science education_cited.csv\n",
      "19 journal of child language_cited.csv\n",
      "20 journal of cognitive neuroscience_cited.csv\n",
      "21 journal of educational psychology_cited.csv\n",
      "22 journal of engineering education_cited.csv\n",
      "23 journal of experimental psychology-general_cited.csv\n",
      "24 journal of experimental psychology-human perception and performance_cited.csv\n",
      "25 journal of experimental psychology-learning memory and cognition_cited.csv\n",
      "26 journal of learning sciences_cited.csv\n",
      "27 journal of memory and language_cited.csv\n",
      "28 journal of personality and social psychology_cited.csv\n",
      "29 language and cognitive processes_cited.csv\n",
      "30 learning and instruction_cited.csv\n",
      "31 memory & cognition_cited.csv\n",
      "32 psychological bulletin_cited.csv\n",
      "33 psychological learning and motivation-advances in research and theory_cited.csv\n",
      "34 psychological review_cited.csv\n",
      "35 psychological science_cited.csv\n",
      "36 psychonomic bulletin & review_cited.csv\n",
      "37 quarterly journal of experimental psychology_cited.csv\n",
      "38 thinking & reasoning_cited.csv\n",
      "39 trends in cognitive sciences_cited.csv\n"
     ]
    }
   ],
   "source": [
    "# For loop plan\n",
    "data_folder = '../data/cite_data_2007/'\n",
    "for i, Ji in enumerate(Jlist):\n",
    "    print(i, Ji)\n",
    "    file = open(data_folder+Jlist[i],'r')\n",
    "    data = pd.read_csv(file)[:-2]    \n",
    "    for j, Jj in enumerate(Jabbr):\n",
    "        num_j_cited_i_row = data[data['Unnamed: 2']==Jabbr[j]]['Unnamed: 3']\n",
    "        try:\n",
    "            num_j_cited_i = int(num_j_cited_i_row)\n",
    "        except:\n",
    "            num_j_cited_i = 0        \n",
    "\n",
    "        JMatrix[Jlist[i]][JDict_map[Jabbr[j]]] = num_j_cited_i"
   ]
  },
  {
   "cell_type": "code",
   "execution_count": 6,
   "metadata": {},
   "outputs": [
    {
     "data": {
      "text/plain": [
       "american journal of psychology_cited.csv                                             0.0\n",
       "behavior research methods_cited.csv                                                  0.0\n",
       "behavioral and brain sciences_cited.csv                                              0.0\n",
       "brain and language_cited.csv                                                         0.0\n",
       "british journal of psychology_cited.csv                                              0.0\n",
       "cogn linguist_cited.csv                                                              0.0\n",
       "cogn syst res_cited.csv                                                              0.0\n",
       "cognition_cited.csv                                                                  0.0\n",
       "cognitive psychology_cited.csv                                                       0.0\n",
       "cognitive science_cited.csv                                                          2.0\n",
       "computers & education_cited.csv                                                     14.0\n",
       "computers in human behavior_cited.csv                                                6.0\n",
       "contemporary educational psychology_cited.csv                                        5.0\n",
       "developmental psychology_cited.csv                                                   0.0\n",
       "developmental science_cited.csv                                                      0.0\n",
       "educational psychology review_cited.csv                                              3.0\n",
       "etr&d-educational technology research and development_cited.csv                      7.0\n",
       "international journal of human-computer studies_cited.csv                            0.0\n",
       "international journal of science education_cited.csv                               297.0\n",
       "journal of child language_cited.csv                                                  0.0\n",
       "journal of cognitive neuroscience_cited.csv                                          0.0\n",
       "journal of educational psychology_cited.csv                                          3.0\n",
       "journal of engineering education_cited.csv                                           2.0\n",
       "journal of experimental psychology-general_cited.csv                                 0.0\n",
       "journal of experimental psychology-human perception and performance_cited.csv        0.0\n",
       "journal of experimental psychology-learning memory and cognition_cited.csv           0.0\n",
       "journal of learning sciences_cited.csv                                               3.0\n",
       "journal of memory and language_cited.csv                                             0.0\n",
       "journal of personality and social psychology_cited.csv                               0.0\n",
       "language and cognitive processes_cited.csv                                           0.0\n",
       "learning and instruction_cited.csv                                                  14.0\n",
       "memory & cognition_cited.csv                                                         0.0\n",
       "psychological bulletin_cited.csv                                                     0.0\n",
       "psychological learning and motivation-advances in research and theory_cited.csv      0.0\n",
       "psychological review_cited.csv                                                       0.0\n",
       "psychological science_cited.csv                                                      0.0\n",
       "psychonomic bulletin & review_cited.csv                                              3.0\n",
       "quarterly journal of experimental psychology_cited.csv                               0.0\n",
       "thinking & reasoning_cited.csv                                                       0.0\n",
       "trends in cognitive sciences_cited.csv                                               0.0\n",
       "Name: international journal of science education_cited.csv, dtype: float64"
      ]
     },
     "execution_count": 6,
     "metadata": {},
     "output_type": "execute_result"
    }
   ],
   "source": [
    "# each column is the incoming citations INTO that journal (at col j)\n",
    "# Looking at the parent journal cognitive sci the which is at the top of this graph,\n",
    "# the journals on the left are citing the journals at the top x number of times from 2007 and all prev years\n",
    "# THE DATABASE, JCReport, calls these \"Citation Values\"\n",
    "JMatrix['international journal of science education_cited.csv']"
   ]
  },
  {
   "cell_type": "code",
   "execution_count": 7,
   "metadata": {},
   "outputs": [
    {
     "name": "stderr",
     "output_type": "stream",
     "text": [
      "/Applications/anaconda/lib/python3.6/site-packages/ipykernel/__main__.py:2: RuntimeWarning: divide by zero encountered in log\n",
      "  from ipykernel import kernelapp as app\n"
     ]
    },
    {
     "data": {
      "text/plain": [
       "<matplotlib.image.AxesImage at 0x117cd1278>"
      ]
     },
     "execution_count": 7,
     "metadata": {},
     "output_type": "execute_result"
    },
    {
     "data": {
      "image/png": "[encoded data removed]",
      "text/plain": [
       "<matplotlib.figure.Figure at 0x10d081240>"
      ]
     },
     "metadata": {},
     "output_type": "display_data"
    }
   ],
   "source": [
    "plt.figure(figsize=(10,10))\n",
    "plt.imshow(np.log(JMatrix))\n",
    "#np.where(np.sum(JMatrix.as_matrix(), axis=0)==0)#getting nothing in the array[] means dylan didnt screw up (:"
   ]
  },
  {
   "cell_type": "markdown",
   "metadata": {
    "collapsed": true
   },
   "source": [
    "### Decomposition"
   ]
  },
  {
   "cell_type": "code",
   "execution_count": 8,
   "metadata": {},
   "outputs": [
    {
     "name": "stdout",
     "output_type": "stream",
     "text": [
      "COGNITIVE SCI\n"
     ]
    },
    {
     "data": {
      "text/plain": [
       "<matplotlib.axes._subplots.AxesSubplot at 0x10cc77898>"
      ]
     },
     "execution_count": 8,
     "metadata": {},
     "output_type": "execute_result"
    },
    {
     "data": {
      "image/png": "[encoded data removed]",
      "text/plain": [
       "<matplotlib.figure.Figure at 0x10cced4a8>"
      ]
     },
     "metadata": {},
     "output_type": "display_data"
    }
   ],
   "source": [
    "# SVD and PCA gives essentially the same answer, as it should, with rotational indeterminancy\n",
    "#citation_svd = decomposition.TruncatedSVD(n_components=20)\n",
    "citation_svd = decomposition.PCA(n_components=20, whiten=False)\n",
    "\n",
    "# apply matrix factorization to citation matrix\n",
    "citation_svd.fit(JMatrix.as_matrix())\n",
    "JMatrix_reduced = citation_svd.transform(JMatrix.as_matrix())\n",
    "\n",
    "# how many components required to capture 95% variance?\n",
    "np.where(np.cumsum(citation_svd.explained_variance_ratio_)>=0.95)[0][0]\n",
    "\n",
    "# cog sci is element 9\n",
    "ctr_j=9\n",
    "print(Jabbr[ctr_j])\n",
    "plt.figure(figsize=(15,4))\n",
    "plt.subplot(1,4,1)\n",
    "plt.plot(np.cumsum(citation_svd.explained_variance_ratio_))\n",
    "plt.subplot(1,4,2)\n",
    "plt.imshow(JMatrix_reduced)\n",
    "plt.subplot(1,4,3)\n",
    "# # Cogsci's reduced vector\n",
    "# plt.plot(JMatrix_reduced[ctr_j,:],'.')\n",
    "# # Cogsci's components\n",
    "# plt.subplot(1,4,4)\n",
    "# plt.plot(citation_svd.components_[:,ctr_j]);\n",
    "# plt.tight_layout()"
   ]
  },
  {
   "cell_type": "code",
   "execution_count": 9,
   "metadata": {},
   "outputs": [
    {
     "data": {
      "text/html": [
       "<div>\n",
       "<table border=\"1\" class=\"dataframe\">\n",
       "  <thead>\n",
       "    <tr style=\"text-align: right;\">\n",
       "      <th></th>\n",
       "      <th>Clu0</th>\n",
       "      <th>Clu1</th>\n",
       "      <th>Clu2</th>\n",
       "      <th>Clu3</th>\n",
       "      <th>Clu4</th>\n",
       "    </tr>\n",
       "  </thead>\n",
       "  <tbody>\n",
       "    <tr>\n",
       "      <th>0</th>\n",
       "      <td>COGNITION</td>\n",
       "      <td>AM J PSYCHOL</td>\n",
       "      <td>J PERS SOC PSYCHOL</td>\n",
       "      <td>MEM COGNITION</td>\n",
       "      <td>BRAIN LANG</td>\n",
       "    </tr>\n",
       "    <tr>\n",
       "      <th>1</th>\n",
       "      <td>J EXP PSYCHOL HUMAN</td>\n",
       "      <td>BEHAV RES METHODS</td>\n",
       "      <td>None</td>\n",
       "      <td>None</td>\n",
       "      <td>J COGNITIVE NEUROSCI</td>\n",
       "    </tr>\n",
       "    <tr>\n",
       "      <th>2</th>\n",
       "      <td>J EXP PSYCHOL LEARN</td>\n",
       "      <td>BEHAV BRAIN SCI</td>\n",
       "      <td>None</td>\n",
       "      <td>None</td>\n",
       "      <td>None</td>\n",
       "    </tr>\n",
       "    <tr>\n",
       "      <th>3</th>\n",
       "      <td>J MEM LANG</td>\n",
       "      <td>BRIT J PSYCHOL</td>\n",
       "      <td>None</td>\n",
       "      <td>None</td>\n",
       "      <td>None</td>\n",
       "    </tr>\n",
       "    <tr>\n",
       "      <th>4</th>\n",
       "      <td>PSYCHOL REV</td>\n",
       "      <td>COGN LINGUIST</td>\n",
       "      <td>None</td>\n",
       "      <td>None</td>\n",
       "      <td>None</td>\n",
       "    </tr>\n",
       "    <tr>\n",
       "      <th>5</th>\n",
       "      <td>PSYCHON B REV</td>\n",
       "      <td>COGN SYST RES</td>\n",
       "      <td>None</td>\n",
       "      <td>None</td>\n",
       "      <td>None</td>\n",
       "    </tr>\n",
       "    <tr>\n",
       "      <th>6</th>\n",
       "      <td>Q J EXP PSYCHOL</td>\n",
       "      <td>COGNITIVE PSYCHOL</td>\n",
       "      <td>None</td>\n",
       "      <td>None</td>\n",
       "      <td>None</td>\n",
       "    </tr>\n",
       "    <tr>\n",
       "      <th>7</th>\n",
       "      <td>None</td>\n",
       "      <td>COGNITIVE SCI</td>\n",
       "      <td>None</td>\n",
       "      <td>None</td>\n",
       "      <td>None</td>\n",
       "    </tr>\n",
       "    <tr>\n",
       "      <th>8</th>\n",
       "      <td>None</td>\n",
       "      <td>COMPUT EDUC</td>\n",
       "      <td>None</td>\n",
       "      <td>None</td>\n",
       "      <td>None</td>\n",
       "    </tr>\n",
       "    <tr>\n",
       "      <th>9</th>\n",
       "      <td>None</td>\n",
       "      <td>COMPUT HUM BEHAV</td>\n",
       "      <td>None</td>\n",
       "      <td>None</td>\n",
       "      <td>None</td>\n",
       "    </tr>\n",
       "    <tr>\n",
       "      <th>10</th>\n",
       "      <td>None</td>\n",
       "      <td>CONTEMP EDUC PSYCHOL</td>\n",
       "      <td>None</td>\n",
       "      <td>None</td>\n",
       "      <td>None</td>\n",
       "    </tr>\n",
       "    <tr>\n",
       "      <th>11</th>\n",
       "      <td>None</td>\n",
       "      <td>DEV PSYCHOL</td>\n",
       "      <td>None</td>\n",
       "      <td>None</td>\n",
       "      <td>None</td>\n",
       "    </tr>\n",
       "    <tr>\n",
       "      <th>12</th>\n",
       "      <td>None</td>\n",
       "      <td>DEVELOPMENTAL SCI</td>\n",
       "      <td>None</td>\n",
       "      <td>None</td>\n",
       "      <td>None</td>\n",
       "    </tr>\n",
       "    <tr>\n",
       "      <th>13</th>\n",
       "      <td>None</td>\n",
       "      <td>EDUC PSYCHOL REV</td>\n",
       "      <td>None</td>\n",
       "      <td>None</td>\n",
       "      <td>None</td>\n",
       "    </tr>\n",
       "    <tr>\n",
       "      <th>14</th>\n",
       "      <td>None</td>\n",
       "      <td>ETR&amp;D-EDUC TECH RES</td>\n",
       "      <td>None</td>\n",
       "      <td>None</td>\n",
       "      <td>None</td>\n",
       "    </tr>\n",
       "    <tr>\n",
       "      <th>15</th>\n",
       "      <td>None</td>\n",
       "      <td>INT J HUM-COMPUT ST</td>\n",
       "      <td>None</td>\n",
       "      <td>None</td>\n",
       "      <td>None</td>\n",
       "    </tr>\n",
       "    <tr>\n",
       "      <th>16</th>\n",
       "      <td>None</td>\n",
       "      <td>INT J SCI EDUC</td>\n",
       "      <td>None</td>\n",
       "      <td>None</td>\n",
       "      <td>None</td>\n",
       "    </tr>\n",
       "    <tr>\n",
       "      <th>17</th>\n",
       "      <td>None</td>\n",
       "      <td>J CHILD LANG</td>\n",
       "      <td>None</td>\n",
       "      <td>None</td>\n",
       "      <td>None</td>\n",
       "    </tr>\n",
       "    <tr>\n",
       "      <th>18</th>\n",
       "      <td>None</td>\n",
       "      <td>J EDUC PSYCHOL</td>\n",
       "      <td>None</td>\n",
       "      <td>None</td>\n",
       "      <td>None</td>\n",
       "    </tr>\n",
       "    <tr>\n",
       "      <th>19</th>\n",
       "      <td>None</td>\n",
       "      <td>J ENG EDUC</td>\n",
       "      <td>None</td>\n",
       "      <td>None</td>\n",
       "      <td>None</td>\n",
       "    </tr>\n",
       "  </tbody>\n",
       "</table>\n",
       "</div>"
      ],
      "text/plain": [
       "                   Clu0                  Clu1                Clu2  \\\n",
       "0             COGNITION          AM J PSYCHOL  J PERS SOC PSYCHOL   \n",
       "1   J EXP PSYCHOL HUMAN     BEHAV RES METHODS                None   \n",
       "2   J EXP PSYCHOL LEARN       BEHAV BRAIN SCI                None   \n",
       "3            J MEM LANG        BRIT J PSYCHOL                None   \n",
       "4           PSYCHOL REV         COGN LINGUIST                None   \n",
       "5         PSYCHON B REV         COGN SYST RES                None   \n",
       "6       Q J EXP PSYCHOL     COGNITIVE PSYCHOL                None   \n",
       "7                  None         COGNITIVE SCI                None   \n",
       "8                  None           COMPUT EDUC                None   \n",
       "9                  None      COMPUT HUM BEHAV                None   \n",
       "10                 None  CONTEMP EDUC PSYCHOL                None   \n",
       "11                 None           DEV PSYCHOL                None   \n",
       "12                 None     DEVELOPMENTAL SCI                None   \n",
       "13                 None      EDUC PSYCHOL REV                None   \n",
       "14                 None   ETR&D-EDUC TECH RES                None   \n",
       "15                 None   INT J HUM-COMPUT ST                None   \n",
       "16                 None        INT J SCI EDUC                None   \n",
       "17                 None          J CHILD LANG                None   \n",
       "18                 None        J EDUC PSYCHOL                None   \n",
       "19                 None            J ENG EDUC                None   \n",
       "\n",
       "             Clu3                  Clu4  \n",
       "0   MEM COGNITION            BRAIN LANG  \n",
       "1            None  J COGNITIVE NEUROSCI  \n",
       "2            None                  None  \n",
       "3            None                  None  \n",
       "4            None                  None  \n",
       "5            None                  None  \n",
       "6            None                  None  \n",
       "7            None                  None  \n",
       "8            None                  None  \n",
       "9            None                  None  \n",
       "10           None                  None  \n",
       "11           None                  None  \n",
       "12           None                  None  \n",
       "13           None                  None  \n",
       "14           None                  None  \n",
       "15           None                  None  \n",
       "16           None                  None  \n",
       "17           None                  None  \n",
       "18           None                  None  \n",
       "19           None                  None  "
      ]
     },
     "execution_count": 9,
     "metadata": {},
     "output_type": "execute_result"
    }
   ],
   "source": [
    "# k-means clustering\n",
    "n_clusters = 5\n",
    "clu = cluster.KMeans(n_clusters=n_clusters)\n",
    "\n",
    "clu.fit(JMatrix_reduced)\n",
    "clu_label = clu.labels_\n",
    "clu_inds = np.argsort(clu_label)\n",
    "clu_label\n",
    "clustered_J = [[Jabbr[i] for i in np.where(clu_label==query_clu)[0]] for query_clu in range(n_clusters)]\n",
    "pd.DataFrame([t[:20] for t in clustered_J], index=['Clu%i'%i for i in range(n_clusters)]).T"
   ]
  },
  {
   "cell_type": "code",
   "execution_count": null,
   "metadata": {
    "collapsed": true
   },
   "outputs": [],
   "source": []
  }
 ],
 "metadata": {
  "kernelspec": {
   "display_name": "Python 3",
   "language": "python",
   "name": "python3"
  },
  "language_info": {
   "codemirror_mode": {
    "name": "ipython",
    "version": 3
   },
   "file_extension": ".py",
   "mimetype": "text/x-python",
   "name": "python",
   "nbconvert_exporter": "python",
   "pygments_lexer": "ipython3",
   "version": "3.6.0"
  }
 },
 "nbformat": 4,
 "nbformat_minor": 2
}
