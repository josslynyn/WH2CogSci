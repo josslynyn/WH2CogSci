{
 "cells": [
  {
   "cell_type": "markdown",
   "metadata": {},
   "source": [
    "# Parsing Journal of Cognitive Science article data Arthur already scraped (see GDrive)\n",
    "Aim 1: Parse author & affiliation information for each article.\n",
    "\n",
    "###### Tentative plans\n",
    "\n",
    "LOOP THROUGH ALL ROWS: \n",
    "- Separate the author and affiliation data\n",
    "- Create new row for each author in that paper, and denote whether that author was a corresponding author. \n",
    "- Also, keep the article name and index (row number) of the article in the original dataset."
   ]
  },
  {
   "cell_type": "code",
   "execution_count": 2,
   "metadata": {
    "collapsed": true
   },
   "outputs": [],
   "source": [
    "import pandas as pd\n",
    "import string as st\n",
    "\n",
    "import matplotlib\n",
    "matplotlib.use('Agg')\n",
    "import numpy as np\n",
    "from datascience import *\n",
    "%matplotlib inline\n",
    "import matplotlib.pyplot as plt\n",
    "import numpy as np\n",
    "plt.style.use('fivethirtyeight')"
   ]
  },
  {
   "cell_type": "code",
   "execution_count": 3,
   "metadata": {
    "collapsed": true
   },
   "outputs": [],
   "source": [
    "data_file = '../data/171022_cogsci_journal_unprocessed.csv'\n",
    "df_pd = pd.read_csv(data_file)\n",
    "df = Table.read_table(data_file)"
   ]
  },
  {
   "cell_type": "code",
   "execution_count": 97,
   "metadata": {},
   "outputs": [
    {
     "data": {
      "text/html": [
       "<table border=\"1\" class=\"dataframe\">\n",
       "    <thead>\n",
       "        <tr>\n",
       "            <th>Unnamed: 0</th> <th>article_name</th> <th>year</th> <th>volume</th> <th>issue</th> <th>pages</th> <th>month</th> <th>authors_and_details</th> <th>num_of_authors</th> <th>article_type</th> <th>keywords</th> <th>doi</th> <th>references</th> <th>num_of_references</th> <th>references_authors</th> <th>references_journals</th> <th>references_nonjournal</th> <th>references_titles_all</th> <th>references_same_number</th> <th>references_titles_journal</th> <th>citedby</th> <th>num_of_citedby</th> <th>citedby_authors</th> <th>citedby_journals</th> <th>article_abstract</th>\n",
       "        </tr>\n",
       "    </thead>\n",
       "    <tbody>\n",
       "        <tr>\n",
       "            <td>1         </td> <td>nan                                                         </td> <td>nan </td> <td>nan   </td> <td>nan  </td> <td>nan    </td> <td>nan    </td> <td>nan                                                         </td> <td>nan           </td> <td>nan             </td> <td>nan     </td> <td>nan                       </td> <td>nan                                                         </td> <td>nan              </td> <td>nan                                                         </td> <td>nan                                                         </td> <td>nan                                                         </td> <td>nan                                                         </td> <td>nan                   </td> <td>nan                                                         </td> <td>nan                                                         </td> <td>nan           </td> <td>nan                                                         </td> <td>nan                                                         </td> <td>nan                                                         </td>\n",
       "        </tr>\n",
       "    </tbody>\n",
       "        <tr>\n",
       "            <td>2         </td> <td>Why Cognitive Science                                       </td> <td>1977</td> <td>1     </td> <td>1    </td> <td>1-2    </td> <td>January</td> <td>Allan Collins                                               </td> <td>1             </td> <td>Original Article</td> <td>nan     </td> <td>10.1207/s15516709cog0101_1</td> <td>nan                                                         </td> <td>0                </td> <td>nan                                                         </td> <td>nan                                                         </td> <td>nan                                                         </td> <td>nan                                                         </td> <td>0                     </td> <td>nan                                                         </td> <td>Marco Elio Tabacchi, Settimo Termini, “The human use of  ...</td> <td>12            </td> <td>Marco Elio Tabacchi/nSettimo Termini/n2017/nLoet Leydesd ...</td> <td>Biophysical Chemistry/nJournal of the Association for In ...</td> <td>nan                                                         </td>\n",
       "        </tr>\n",
       "    </tbody>\n",
       "        <tr>\n",
       "            <td>3         </td> <td>An Overview of KRL, a Knowledge Representation Language     </td> <td>1977</td> <td>1     </td> <td>1    </td> <td>3-46   </td> <td>January</td> <td>Daniel G. Bobrow,Corresponding author             Xerox  ...</td> <td>2             </td> <td>Original Article</td> <td>nan     </td> <td>10.1207/s15516709cog0101_2</td> <td>  Anderson, J., & Bower, G.  Human associative memory. W ...</td> <td>55               </td> <td>Anderson, J./nBower, G./n1973/nBobrow, D. G./nKaplan, R. ...</td> <td>Artificial Intelligence/nCommunication of the Associatio ...</td> <td>Human associative memory/nRepresentation and understandi ...</td> <td>Human associative memory/nGus, a frame driven dialog sys ...</td> <td>1                     </td> <td>Gus, a frame driven dialog system/nA model and stack imp ...</td> <td>Orlando Lopez-Cruz, Nini Johanna Garnica, Trends and App ...</td> <td>278           </td> <td>Orlando Lopez-Cruz/nNini Johanna Garnica/n2018/n2015/nEr ...</td> <td>Computational Linguistics/nExpert Systems with Applicati ...</td> <td>This paper describes KRL, a Knowledge Representation Lan ...</td>\n",
       "        </tr>\n",
       "    </tbody>\n",
       "        <tr>\n",
       "            <td>4         </td> <td>Human and Computational Question Answering†                 </td> <td>1977</td> <td>1     </td> <td>1    </td> <td>47-73  </td> <td>January</td> <td>Wendy LehnertCorresponding author             Yale Unive ...</td> <td>1             </td> <td>Original Article</td> <td>nan     </td> <td>10.1207/s15516709cog0101_3</td> <td>  Abelson, R. P.  Concepts for representing mundane real ...</td> <td>12               </td> <td>Abelson, R. P./n1975/nCullingford, R. E./n1975/nMeehan,  ...</td> <td>American Journal of Computational Linguistics/nAmerican  ...</td> <td>Representation and understanding/nCenter for Human Infor ...</td> <td>Concepts for representing mundane reality in plans/nAn a ...</td> <td>0                     </td> <td>An approach to the representation of mundane world knowl ...</td> <td>Colleen E. Crangle, Joyce Brothers Kart, A questions-bas ...</td> <td>31            </td> <td>Colleen E. Crangle/nJoyce Brothers Kart/n2015/n2014/nSam ...</td> <td>PeerJ/nTheory and Practice in Language Studies/nIBM Jour ...</td> <td>The ability to answer questions about a text is the stro ...</td>\n",
       "        </tr>\n",
       "    </tbody>\n",
       "        <tr>\n",
       "            <td>5         </td> <td>Definite Descriptions and Semantic Memory†                  </td> <td>1977</td> <td>1     </td> <td>1    </td> <td>74-83  </td> <td>January</td> <td>Andrew Ortony,Corresponding author             Universit ...</td> <td>2             </td> <td>Original Article</td> <td>nan     </td> <td>10.1207/s15516709cog0101_4</td> <td>  Anderson, J. R., & Bower, G. H.  Human associative mem ...</td> <td>13               </td> <td>Anderson, J. R./nBower, G. H./n1973/nAnderson, J. R./nHa ...</td> <td>Cognitive Psychology/nAmerican Educational Research Jour ...</td> <td>Human associative memory/nTranslations from the writings ...</td> <td>Human associative memory/nIndividuation and reference in ...</td> <td>1                     </td> <td>Individuation and reference in memory: Proper names and  ...</td> <td>Kristine H. Onishi, Gregory L. Murphy, Discourse model r ...</td> <td>7             </td> <td>Kristine H. Onishi/nGregory L. Murphy/n2002/nBoaz Keysar ...</td> <td>Language and Cognitive Processes/nJournal of Memory and  ...</td> <td>Subjects were exposed to sentences containing “direct” a ...</td>\n",
       "        </tr>\n",
       "    </tbody>\n",
       "        <tr>\n",
       "            <td>6         </td> <td>Artificial Intelligence, Language, and the Study of Know ...</td> <td>1977</td> <td>1     </td> <td>1    </td> <td>84-123 </td> <td>January</td> <td>Professor Ira Goldstein,Corresponding author             ...</td> <td>2             </td> <td>Original Article</td> <td>nan     </td> <td>10.1207/s15516709cog0101_5</td> <td>  Anderson, J. R., & Bower, G.  Human associative memory ...</td> <td>48               </td> <td>Anderson, J. R./nBower, G./n1973/n1975/nBrown, J. S./nMa ...</td> <td>Linguistic Analysis/nArtificial Intelligence/nJournal of ...</td> <td>Human associative memory/nRepresentation and understandi ...</td> <td>Human associative memory/nProposal for knowledge-based i ...</td> <td>1                     </td> <td>Questions of form and interpretation/nSummary of MYCROFT ...</td> <td>Antoine C. M. van den Bogaart, Hans G. K. Hummel, Paul A ...</td> <td>37            </td> <td>Antoine C. M. van den Bogaart/nHans G. K. Hummel/nPaul A ...</td> <td>Professional Development in Education/nArtificial Intell ...</td> <td>This paper studies the relationship of Artificial Intell ...</td>\n",
       "        </tr>\n",
       "    </tbody>\n",
       "        <tr>\n",
       "            <td>7         </td> <td>Induction of Augmented Transition Networks†                 </td> <td>1977</td> <td>1     </td> <td>2    </td> <td>125-157</td> <td>April  </td> <td>John R. AndersonCorresponding author             Yale Un ...</td> <td>1             </td> <td>Original Article</td> <td>nan     </td> <td>10.1207/s15516709cog0102_1</td> <td>  Anderson, J. R.  Language acquisition by computer and  ...</td> <td>32               </td> <td>Anderson, J. R./n1974/nAnderson, J. R./n1975/nAnderson,  ...</td> <td>Information and Control/nJournal of Mathematical Psychol ...</td> <td>Language acquisition by computer and child/nInformation  ...</td> <td>Language acquisition by computer and child/nComputer sim ...</td> <td>0                     </td> <td>Language identification in the limit/nA mathematical the ...</td> <td>Georgia M. Green, Non-Transformational Syntax, 2011, 378 ...</td> <td>25            </td> <td>Georgia M. Green/n2011/nMichael Gasser/n2006/nR.F Hadley ...</td> <td>Neural Networks/nLingua/nComputers & Industrial Engineer ...</td> <td>LAS is a program that acquires augmented transition netw ...</td>\n",
       "        </tr>\n",
       "    </tbody>\n",
       "        <tr>\n",
       "            <td>8         </td> <td>Decision Theory and Artificial Intelligence II: The Hung ...</td> <td>1977</td> <td>1     </td> <td>2    </td> <td>158-192</td> <td>April  </td> <td>Jerome A. Feldman,Corresponding author             Unive ...</td> <td>2             </td> <td>Original Article</td> <td>nan     </td> <td>10.1207/s15516709cog0102_2</td> <td>  Bobrow, D. G., & Collins, A. (Eds.) Representation and ...</td> <td>39               </td> <td>1975/nBobrow, D. G./nRaphael, B./n1974/nBobrow, D. G./nW ...</td> <td>Computing Surveys/nOperations Research/nArtificial Intel ...</td> <td>Representation and understanding/nPhD thesis/nElementary ...</td> <td>New programming languages for AI research/nAn overview o ...</td> <td>1                     </td> <td>New programming languages for AI research/nSearch for an ...</td> <td>Nils Bulling, A Survey of Multi-Agent Decision Making, K ...</td> <td>24            </td> <td>Nils Bulling/n2014/nCharisma F. Choudhury/nMoshe Ben-Aki ...</td> <td>KI - Künstliche Intelligenz/nJournal of Choice Modelling ...</td> <td>This paper describes a problem-solving framework In whic ...</td>\n",
       "        </tr>\n",
       "    </tbody>\n",
       "        <tr>\n",
       "            <td>9         </td> <td>Problem Solving in Semantically Rich Domains: An Example ...</td> <td>1977</td> <td>1     </td> <td>2    </td> <td>193-215</td> <td>April  </td> <td>R. Bhaskar,             Carnegie-Mellon University/nHerb ...</td> <td>2             </td> <td>Original Article</td> <td>nan     </td> <td>10.1207/s15516709cog0102_3</td> <td>  Newell, A., & Simon, H. A.  Human problem solving. Eng ...</td> <td>2                </td> <td>Newell, A./nSimon, H. A./n1972/nWaterman, D. A./nNewell, ...</td> <td>nan                                                         </td> <td>Human problem solving/nPAS-II: An interactive task-free  ...</td> <td>Human problem solving/nPAS-II: An interactive task-free  ...</td> <td>0                     </td> <td>nan                                                         </td> <td>Fernand Gobet, Minds, Models and Milieux, 2016, 151/nNih ...</td> <td>64            </td> <td>Fernand Gobet/n2016/nNihad Dukhan/n2015/nNihad Dukhan/n2 ...</td> <td>QScience Proceedings/nQScience Proceedings/nJournal of t ...</td> <td>Recent research on human problem solving has largely foc ...</td>\n",
       "        </tr>\n",
       "    </tbody>\n",
       "        <tr>\n",
       "            <td>10        </td> <td>Verbs, Time, and Modality†                                  </td> <td>1977</td> <td>1     </td> <td>2    </td> <td>216-234</td> <td>April  </td> <td>M. J. SteedmanCorresponding author             Universit ...</td> <td>1             </td> <td>Original Article</td> <td>nan     </td> <td>10.1207/s15516709cog0102_4</td> <td>  Antinucci, F., & Parisi, D.  On English modal verbs. P ...</td> <td>11               </td> <td>Antinucci, F./nParisi, D./n1971/nBoyd, J./nThorne, J./n1 ...</td> <td>Journal of Linguistics                                      </td> <td>Papers from the Seventh Regional Meeting C.L.S./nStudies ...</td> <td>On English modal verbs/nThe semantics of modal verbs/nSt ...</td> <td>0                     </td> <td>The semantics of modal verbs                                </td> <td>João Paulo Aires, Daniele Pinheiro, Vera Strube de Lima, ...</td> <td>10            </td> <td>João Paulo Aires/nDaniele Pinheiro/nVera Strube de Lima/ ...</td> <td>Artificial Intelligence and Law/nFirst Language/nFirst L ...</td> <td>In the first part of this paper it is argued that Vendle ...</td>\n",
       "        </tr>\n",
       "    </tbody>\n",
       "        <tr>\n",
       "            <td>11        </td> <td>What Sort of Taxonomy of Causation Do We Need for Langua ...</td> <td>1977</td> <td>1     </td> <td>3    </td> <td>235-264</td> <td>July   </td> <td>Yorick Wilks             University of Edinbur̀gh           </td> <td>1             </td> <td>Original Article</td> <td>nan     </td> <td>10.1207/s15516709cog0103_1</td> <td>  Abbott, B.  Some problems about giving a model-theoret ...</td> <td>21               </td> <td>Abbott, B./n1974/nBoden, M./n1973/nCharniak, E./n1972/nC ...</td> <td>Berkeley Studies in Syntax and Semantics/nJournal of the ...</td> <td>Towards a model of children's story comprehension/nProce ...</td> <td>Some problems about giving a model-theoretic account of  ...</td> <td>2                     </td> <td>Some problems about giving a model-theoretic account of  ...</td> <td>Multi-Dimensional Summarization in Cyber-Physical Societ ...</td> <td>19            </td> <td>2016/nRichard Alterman/nLawrence A. Bookman/n1992/nGian  ...</td> <td>Cognitive Science/nComputers & Mathematics with Applicat ...</td> <td>A proposal is made concerning the introduction of the no ...</td>\n",
       "        </tr>\n",
       "    </tbody>\n",
       "        <tr>\n",
       "            <td>12        </td> <td>A Simulation of Visual Imagery†                             </td> <td>1977</td> <td>1     </td> <td>3    </td> <td>265-295</td> <td>July   </td> <td>Stephen M. Kosslyn,Corresponding author             The  ...</td> <td>2             </td> <td>Original Article</td> <td>nan     </td> <td>10.1207/s15516709cog0103_2</td> <td>  Baylor, G. W.  A treatise on the mind's eye. Ph.D. Dis ...</td> <td>23               </td> <td>Baylor, G. W./n1971/nBower, G. H./nGlass, A. L./n1976/nC ...</td> <td>Journal of Experimental Psychology: Human Learning and M ...</td> <td>A treatise on the mind's eye/nVisual information process ...</td> <td>A treatise on the mind's eye/nStructural units and the r ...</td> <td>0                     </td> <td>Structural units and the redintegrative power of picture ...</td> <td>Lawrence P. Behmer, Matthew J. C. Crump, Spatial knowled ...</td> <td>77            </td> <td>Lawrence P. Behmer/nMatthew J. C. Crump/n2017/nPaul Torr ...</td> <td>Attention, Perception, & Psychophysics/nComputation/nJou ...</td> <td>This paper describes an operational computer simulation  ...</td>\n",
       "        </tr>\n",
       "    </tbody>\n",
       "        <tr>\n",
       "            <td>13        </td> <td>Identifying the Relevant Aspects of a Problem Text†         </td> <td>1977</td> <td>1     </td> <td>3    </td> <td>297-313</td> <td>July   </td> <td>J. R. Hayes,Corresponding author             Carnegie-Me ...</td> <td>3             </td> <td>Original Article</td> <td>nan     </td> <td>10.1207/s15516709cog0103_3</td> <td>  Frase, L. T.  Maintenance and control in the acquisiti ...</td> <td>8                </td> <td>Frase, L. T./n1972/nHayes, J. R./n1966/nHayes, J. R./nSi ...</td> <td>nan                                                         </td> <td>Language comprehension and the acquisition of knowledge/ ...</td> <td>Maintenance and control in the acquisition of knowledge  ...</td> <td>0                     </td> <td>nan                                                         </td> <td>H. Lee Swanson, Word Problem Solving, Working Memory and ...</td> <td>9             </td> <td>H. Lee Swanson/n2016/nH. Lee Swanson/nCathy Lussier/nMic ...</td> <td>Journal of Applied Research in Memory and Cognition/nLea ...</td> <td>Forty-nine subjects judged the relevancy of sentence par ...</td>\n",
       "        </tr>\n",
       "    </tbody>\n",
       "        <tr>\n",
       "            <td>14        </td> <td>Framed PAINTING: The Representation of a Common Sense Kn ...</td> <td>1977</td> <td>1     </td> <td>4    </td> <td>235-264</td> <td>October</td> <td>Eugene CharniakCorresponding author             Universi ...</td> <td>1             </td> <td>Original Article</td> <td>nan     </td> <td>10.1207/s15516709cog0104_1</td> <td>  Bobrow, D. G., & Winograd, T.  An overview of KRL, A k ...</td> <td>11               </td> <td>Bobrow, D. G./nWinograd, T./n1977/nCharniak, E./n1975/nC ...</td> <td>Cognitive Science                                           </td> <td>Advance papers of the fourth international conference on ...</td> <td>An overview of KRL, A knowledge representation language/ ...</td> <td>1                     </td> <td>An overview of KRL, A knowledge representation language     </td> <td>nan                                                         </td> <td>0             </td> <td>nan                                                         </td> <td>nan                                                         </td> <td>This paper presents a “frame” representation for common  ...</td>\n",
       "        </tr>\n",
       "    </tbody>\n",
       "        <tr>\n",
       "            <td>15        </td> <td>Dialogue-Games: Metacommunication Structures for Natural ...</td> <td>1977</td> <td>1     </td> <td>4    </td> <td>395-420</td> <td>October</td> <td>James A. Levin,Corresponding author             USC Info ...</td> <td>2             </td> <td>Original Article</td> <td>nan     </td> <td>10.1207/s15516709cog0104_2</td> <td>  Austin, J. L.  How to do things with words. Cambridge  ...</td> <td>37               </td> <td>Austin, J. L./n1962/nBartlett, F. C./n1932/nBransford, J ...</td> <td>Scientific American/nJournal of Verbal Learning and Verb ...</td> <td>How to do things with words/nRemembering/nVisual informa ...</td> <td>How to do things with words/nRemembering/nConsiderations ...</td> <td>0                     </td> <td>Interactive human communication/nUnderstanding what is m ...</td> <td>Guillaume Dubuisson Duplessis, Alexandre Pauchet, Nathal ...</td> <td>39            </td> <td>Guillaume Dubuisson Duplessis/nAlexandre Pauchet/nNathal ...</td> <td>International Journal on Artificial Intelligence Tools/n ...</td> <td>Our studies of naturally occurring human dialogue have l ...</td>\n",
       "        </tr>\n",
       "    </tbody>\n",
       "        <tr>\n",
       "            <td>16        </td> <td>Rules and Topics in Conversation                            </td> <td>1977</td> <td>1     </td> <td>4    </td> <td>421-441</td> <td>October</td> <td>Roger C. SchankCorresponding author             Yale Uni ...</td> <td>2             </td> <td>Original Article</td> <td>nan     </td> <td>10.1207/s15516709cog0104_3</td> <td>  Collins, A.  Processes in acquiring knowledge. In R. C ...</td> <td>6                </td> <td>Collins, A./n1977/nGrice, H. P./n1975/nLehnert, W. G./nM ...</td> <td>nan                                                         </td> <td>Schooling and the acquisition of knowledge/nSyntax and s ...</td> <td>Processes in acquiring knowledge/nLogic and conversation ...</td> <td>0                     </td> <td>nan                                                         </td> <td>Richard Watson Todd, Discourse Topics, 2016, 269/nMuna M ...</td> <td>47            </td> <td>Richard Watson Todd/n2016/nMuna Morris-Adams/n2014/nMarc ...</td> <td>Journal of Pragmatics/nJournal of Communication/nResearc ...</td> <td>Rules of conversation are given that specify what can fo ...</td>\n",
       "        </tr>\n",
       "    </tbody>\n",
       "        <tr>\n",
       "            <td>17        </td> <td>Children's Visual Descriptions                              </td> <td>1978</td> <td>2     </td> <td>1    </td> <td>1-15   </td> <td>January</td> <td>Jean HayesCorresponding author             University of ...</td> <td>1             </td> <td>Original Article</td> <td>nan     </td> <td>10.1207/s15516709cog0201_1</td> <td>  Abercrombie, M. L. J.  Learning to draw. In K. J. Conn ...</td> <td>8                </td> <td>Abercrombie, M. L. J./n1968/nBarrow, H. G./nPopplestone, ...</td> <td>nan                                                         </td> <td>Mechanisms of motor skill development/nMachine intellige ...</td> <td>Learning to draw/nRelational descriptions in picture pro ...</td> <td>0                     </td> <td>nan                                                         </td> <td>John Willats, Cognitive Processes in the Perception of A ...</td> <td>1             </td> <td>John Willats/n1984                                          </td> <td>nan                                                         </td> <td>The aim of the experiments described below was to elucid ...</td>\n",
       "        </tr>\n",
       "    </tbody>\n",
       "        <tr>\n",
       "            <td>18        </td> <td>The Meaning of Modality                                     </td> <td>1978</td> <td>2     </td> <td>1    </td> <td>17-26  </td> <td>January</td> <td>P. N. Johnson-LairdCorresponding author             Univ ...</td> <td>1             </td> <td>Original Article</td> <td>nan     </td> <td>10.1207/s15516709cog0201_2</td> <td>  Boyd, J., & Thome, J. P.  The semantics of modal verbs ...</td> <td>21               </td> <td>Boyd, J./nThome, J. P./n1969/nHewitt, C./n1971/nHintikka ...</td> <td>Journal of Linguistics/nActa Philosophica Fennica/nTheor ...</td> <td>Description and theoretical analysis (using schemas) of  ...</td> <td>The semantics of modal verbs/nDescription and theoretica ...</td> <td>0                     </td> <td>The semantics of modal verbs/nThe modes of modality/nWha ...</td> <td>Andrew Shtulman, Jonathan Phillips, Differentiating “cou ...</td> <td>15            </td> <td>Andrew Shtulman/nJonathan Phillips/n2018/nAndrea Rocci/n ...</td> <td>Journal of Experimental Child Psychology/nThe Quarterly  ...</td> <td>This paper describes a semantics for modal terms such as ...</td>\n",
       "        </tr>\n",
       "    </tbody>\n",
       "        <tr>\n",
       "            <td>19        </td> <td>POLITICS: Automated Ideological Reasoning†                  </td> <td>1978</td> <td>2     </td> <td>1    </td> <td>27-51  </td> <td>January</td> <td>Jaime G. Carbonell JrCorresponding author             Ya ...</td> <td>1             </td> <td>Original Article</td> <td>nan     </td> <td>10.1207/s15516709cog0201_3</td> <td>  Abelson, R. P., & J. D. Carroll. Computer simulation o ...</td> <td>17               </td> <td>Abelson, R. P./nJ. D. Carroll/n1965/nAbelson, R. P./n197 ...</td> <td>American Behavioral Scientist/nCognitive Science/nCognit ...</td> <td>Computer models of thought and language/nBelief systems  ...</td> <td>Computer simulation of individual belief systems/nThe st ...</td> <td>0                     </td> <td>Computer simulation of individual belief systems/nA fram ...</td> <td>Antônio Carlos da Rocha Costa, Situated Ideological Syst ...</td> <td>48            </td> <td>Antônio Carlos da Rocha Costa/n2017/n2012/nIra J. Rosema ...</td> <td>Axiomathes/nPerspectives on Psychological Science/nForei ...</td> <td>POLITICS is a system of computer programs which simulate ...</td>\n",
       "        </tr>\n",
       "    </tbody>\n",
       "        <tr>\n",
       "            <td>20        </td> <td>Remembering, Understanding, and Representation†             </td> <td>1978</td> <td>2     </td> <td>1    </td> <td>53-69  </td> <td>January</td> <td>Andrew OrtonyCorresponding author             University ...</td> <td>1             </td> <td>Original Article</td> <td>nan     </td> <td>10.1207/s15516709cog0201_4</td> <td>  Anderson, J. R., & Bower, G. H.  Human associative mem ...</td> <td>25               </td> <td>Anderson, J. R./nBower, G. H./n1973/nAnderson, R. C./nOr ...</td> <td>Cognitive Psychology/nCognitive Psychology/nPsychologica ...</td> <td>Human associative memory/nRepresentation and understandi ...</td> <td>Human associative memory/nOn putting apples into bottles ...</td> <td>-1                    </td> <td>On putting apples into bottles: A problem of polysemy/nT ...</td> <td>Maria Elizabeth Grabe, Ozen Bas, Irene Ingeborg van Drie ...</td> <td>25            </td> <td>Maria Elizabeth Grabe/nOzen Bas/nIrene Ingeborg van Drie ...</td> <td>Journal of Communication/nPLoS ONE/nHealth Communication ...</td> <td>Starting with the facts that not everything that is unde ...</td>\n",
       "        </tr>\n",
       "    </tbody>\n",
       "        <tr>\n",
       "            <td>21        </td> <td>Planning and Acting†                                        </td> <td>1978</td> <td>2     </td> <td>2    </td> <td>71-100 </td> <td>April  </td> <td>Drew McDermottCorresponding author             Yale Univ ...</td> <td>1             </td> <td>Original Article</td> <td>nan     </td> <td>10.1207/s15516709cog0202_1</td> <td>  Bledsoe, W., W., & Tyson, M.  The UT interactive prove ...</td> <td>33               </td> <td>Bledsoe, W., W./nTyson, M./n1975/nCharniak, E./n1977/nDa ...</td> <td>Artificial Intelligence/nArtificial Intelligence/nArtifi ...</td> <td>Geneva: Institut pour les Etudes Semantiques et Cognitiv ...</td> <td>The UT interactive prover/nA framed PAINTING: The repres ...</td> <td>-1                    </td> <td>STRIPS: a new approach to the application of theorem pro ...</td> <td>Samuel T. Hunter, Scott E. Cassidy, Gina Scott Ligon, Ha ...</td> <td>49            </td> <td>Samuel T. Hunter/nScott E. Cassidy/nGina Scott Ligon/n20 ...</td> <td>International Journal of Production Research/nComputatio ...</td> <td>A new theory of problem solving is presented, which embe ...</td>\n",
       "        </tr>\n",
       "    </tbody>\n",
       "        <tr>\n",
       "            <td>22        </td> <td>Has Artificial Intelligence Contributed to an Understand ...</td> <td>1978</td> <td>2     </td> <td>2    </td> <td>101-127</td> <td>April  </td> <td>Laurence MillerCorresponding author             Harvard  ...</td> <td>1             </td> <td>Original Article</td> <td>nan     </td> <td>10.1207/s15516709cog0202_2</td> <td>  Dresher, B. E., & Hornstein, N.  On some supposed cont ...</td> <td>15               </td> <td>Dresher, B. E./nHornstein, N./n1976/nDreyfus, H. L./n197 ...</td> <td>Cognition/nCognitive Psychology/nCognitive Science/nPsyc ...</td> <td>What computers can't do/nThe psychology of computer visi ...</td> <td>On some supposed contribution of artificial intelligence ...</td> <td>0                     </td> <td>On some supposed contribution of artificial intelligence ...</td> <td>Luciano Gallino, Menti naturali e menti artificiali: nuo ...</td> <td>1             </td> <td>Luciano Gallino/n2016                                       </td> <td>Quaderni di Sociologia                                      </td> <td>This essay examines arguments for and against the propos ...</td>\n",
       "        </tr>\n",
       "    </tbody>\n",
       "        <tr>\n",
       "            <td>23        </td> <td>Modeling Spatial Knowledge†                                 </td> <td>1978</td> <td>2     </td> <td>2    </td> <td>129-153</td> <td>April  </td> <td>Benjamin KuipersCorresponding author             Massach ...</td> <td>1             </td> <td>Original Article</td> <td>nan     </td> <td>10.1207/s15516709cog0202_3</td> <td>  Appleyard, D.  Styles and methods of structuring a cit ...</td> <td>20               </td> <td>Appleyard, D./n1970/nAppleyard, D./nLynch, K./nMyer, J.  ...</td> <td>Enviroment and Behavior/nCognitive Psychology/nCognitive ...</td> <td>The view from the road/nEnvironmental knowing: Theories, ...</td> <td>Styles and methods of structuring a city/nThe view from  ...</td> <td>-1                    </td> <td>Styles and methods of structuring a city/nImagery, propo ...</td> <td>Yi KANG, Kiyotaka FUKAHORI, Yoichi KUBOTA, G. M. W. L. G ...</td> <td>198           </td> <td>Yi KANG/nKiyotaka FUKAHORI/nYoichi KUBOTA/nG. M. W. L. G ...</td> <td>Journal of JSCE/nACM Computing Surveys/nIEEE Transaction ...</td> <td>A person's cognitive map, or knowledge of large-scale sp ...</td>\n",
       "        </tr>\n",
       "    </tbody>\n",
       "        <tr>\n",
       "            <td>24        </td> <td>Diagnostic Models for Procedural Bugs in Basic Mathemati ...</td> <td>1978</td> <td>2     </td> <td>2    </td> <td>155-192</td> <td>April  </td> <td>John Seely Brown,             Bolt Beranek and Newman/nR ...</td> <td>2             </td> <td>Original Article</td> <td>nan     </td> <td>10.1207/s15516709cog0202_4</td> <td>  Barr, A.  A rationale and description of the BASIC ins ...</td> <td>30               </td> <td>Barr, A./nApril 1974/nBrown, J. S./nApril 1974/nBrown, J ...</td> <td>Journal for Research in Mathematics Education/nContempor ...</td> <td>A rationale and description of the BASIC instructional p ...</td> <td>A rationale and description of the BASIC instructional p ...</td> <td>0                     </td> <td>Systematic errors in the four vertical algorithms in nor ...</td> <td>nan                                                         </td> <td>nan           </td> <td>nan                                                         </td> <td>nan                                                         </td> <td>nan                                                         </td>\n",
       "        </tr>\n",
       "    </tbody>\n",
       "        <tr>\n",
       "            <td>25        </td> <td>Editorial                                                   </td> <td>1978</td> <td>2     </td> <td>3    </td> <td>193-194</td> <td>July   </td> <td>Eugene Charniak             Computer Science Box F Brown ...</td> <td>1             </td> <td>Editorial       </td> <td>nan     </td> <td>10.1207/s15516709cog0203_1</td> <td>nan                                                         </td> <td>0                </td> <td>nan                                                         </td> <td>nan                                                         </td> <td>nan                                                         </td> <td>nan                                                         </td> <td>0                     </td> <td>nan                                                         </td> <td>P. N. Johnson-Laird, Will There Be Any Neat Solutions to ...</td> <td>1             </td> <td>P. N. Johnson-Laird/n1979                                   </td> <td>Cognitive Science                                           </td> <td>nan                                                         </td>\n",
       "        </tr>\n",
       "    </tbody>\n",
       "        <tr>\n",
       "            <td>26        </td> <td>Interacting Plans                                           </td> <td>1978</td> <td>2     </td> <td>3    </td> <td>195-233</td> <td>July   </td> <td>Bertram Bruce,             Bolt Beranek and Newman/nDeni ...</td> <td>2             </td> <td>Original Article</td> <td>nan     </td> <td>10.1207/s15516709cog0203_2</td> <td>  Bruce, B. C.  Belief systems & language understanding. ...</td> <td>15               </td> <td>Bruce, B. C./n1975/nBruce, B. C./n1978/n1977/nBruce, B.  ...</td> <td>nan                                                         </td> <td>Belief systems & language understanding/nTheoretical iss ...</td> <td>Belief systems & language understanding/nPlans and socia ...</td> <td>2                     </td> <td>nan                                                         </td> <td>Koji Tanaka, Masakazu Takahashi, Kazuhiko Tsuda, Compari ...</td> <td>54            </td> <td>Koji Tanaka/nMasakazu Takahashi/nKazuhiko Tsuda/n2013/nJ ...</td> <td>International Journal of e-Education, e-Business, e-Mana ...</td> <td>The paper explores certain phenomena which arise in stor ...</td>\n",
       "        </tr>\n",
       "    </tbody>\n",
       "        <tr>\n",
       "            <td>27        </td> <td>Why John Married Mary: Understanding Stories Involving R ...</td> <td>1978</td> <td>2     </td> <td>3    </td> <td>235-266</td> <td>July   </td> <td>Robert Wilensky             Yale University                 </td> <td>1             </td> <td>Original Article</td> <td>nan     </td> <td>10.1207/s15516709cog0203_3</td> <td>  Charniak, E.  On the use of framed knowledge in langua ...</td> <td>5                </td> <td>Charniak, E./n1978/nCullingford, R. E./n1978/nMinsky, M. ...</td> <td>nan                                                         </td> <td>On the use of framed knowledge in language comprehension ...</td> <td>On the use of framed knowledge in language comprehension ...</td> <td>0                     </td> <td>nan                                                         </td> <td>Brent Harrison, Stephen G. Ware, Matthew W. Fendt, David ...</td> <td>20            </td> <td>Brent Harrison/nStephen G. Ware/nMatthew W. Fendt/nDavid ...</td> <td>IEEE Transactions on Emerging Topics in Computing/nArtif ...</td> <td>A story understander needs a great deal of knowledge abo ...</td>\n",
       "        </tr>\n",
       "    </tbody>\n",
       "        <tr>\n",
       "            <td>28        </td> <td>Some Remarks on AI and Linguistics                          </td> <td>1978</td> <td>2     </td> <td>3    </td> <td>267-275</td> <td>July   </td> <td>George Lakoff             University of California, Berkeley</td> <td>1             </td> <td>Original Article</td> <td>nan     </td> <td>10.1207/s15516709cog0203_4</td> <td>  Becker, J.  Theoretical Issues in Natural Language Pro ...</td> <td>16               </td> <td>Becker, J./n1975/nBolinger/n1976/nDresher, B. E./nHornst ...</td> <td>Proceedings of the Chicago Linguistics Society/nProceedi ...</td> <td>Theoretical Issues in Natural Language Processing/nLangu ...</td> <td>Theoretical Issues in Natural Language Processing/nLangu ...</td> <td>2                     </td> <td>Introducing cognitive grammar                               </td> <td>Chuck Rieger, Steve Small, Toward a Theory of Distribute ...</td> <td>1             </td> <td>Chuck Rieger/nSteve Small/n1981                             </td> <td>IEEE Transactions on Systems, Man, and Cybernetics          </td> <td>nan                                                         </td>\n",
       "        </tr>\n",
       "    </tbody>\n",
       "        <tr>\n",
       "            <td>29        </td> <td>Tarskian Semantics, or No Notation Without Denotation!      </td> <td>1978</td> <td>2     </td> <td>3    </td> <td>277-282</td> <td>July   </td> <td>Drew McDermott             Yale University                  </td> <td>1             </td> <td>Original Article</td> <td>nan     </td> <td>10.1207/s15516709cog0203_5</td> <td>  Bobrow, D. & Winograd, T.  An overview of KRL. a knowl ...</td> <td>9                </td> <td>Bobrow, D./nWinograd, T./n1977/nBressan, A./n1972/nDavis ...</td> <td>a knowledge representation language/nSome problems and n ...</td> <td>A general interpreted modal calculus/nStanford AI Labora ...</td> <td>An overview of KRL/nA general interpreted modal calculus ...</td> <td>2                     </td> <td>An overview of KRL                                          </td> <td>Liz Sonenberg, Agents in Principle, Agents in Practice,  ...</td> <td>19            </td> <td>Liz Sonenberg/n2011/nSeiji Koide/nHideaki Takeda/n2011/n ...</td> <td>Artificial Intelligence/nInformation Processing & Manage ...</td> <td>nan                                                         </td>\n",
       "        </tr>\n",
       "    </tbody>\n",
       "        <tr>\n",
       "            <td>30        </td> <td>Conversational Coherency†                                   </td> <td>1978</td> <td>2     </td> <td>4    </td> <td>283-327</td> <td>October</td> <td>Rachel Reichman             Harvard University and Bolt  ...</td> <td>1             </td> <td>Original Article</td> <td>nan     </td> <td>10.1207/s15516709cog0204_1</td> <td>  Allen, J., & Perrault, R.  Participating in dialogues: ...</td> <td>11               </td> <td>Allen, J./nPerrault, R./n1978/nBransford, J. D./nJohnson ...</td> <td>Proc Canadian Society for Computational Studies of Intel ...</td> <td>Visual information processing/nChild Discourse/nThe repr ...</td> <td>Participating in dialogues: Understanding via plan deduc ...</td> <td>0                     </td> <td>Participating in dialogues: Understanding via plan deduc ...</td> <td>Elizabeth Smith, Kari-Anne B. Næss, Christopher Jarrold, ...</td> <td>63            </td> <td>Elizabeth Smith/nKari-Anne B. Næss/nChristopher Jarrold/ ...</td> <td>Journal of Communication Disorders/nResearch on Language ...</td> <td>A major goal of this work is to specify some steps of th ...</td>\n",
       "        </tr>\n",
       "    </tbody>\n",
       "        <tr>\n",
       "            <td>31        </td> <td>Artificial Intelligence as a Possible Tool for Discoveri ...</td> <td>1978</td> <td>2     </td> <td>4    </td> <td>329-360</td> <td>October</td> <td>David Isles             Tufts University                    </td> <td>1             </td> <td>Original Article</td> <td>nan     </td> <td>10.1207/s15516709cog0204_2</td> <td>  Ayer, A. J.  The a priori. In Philosophy of mathematic ...</td> <td>48               </td> <td>Ayer, A. J./n1964/nBolzano, B./n1950/nBoole, G./n1940/nB ...</td> <td>Proceedings of the British Academy/nLogic colloquium/nMe ...</td> <td>In Philosophy of mathematics/nParadoxes of the infinite/ ...</td> <td>The a priori/nParadoxes of the infinite/nThe laws of tho ...</td> <td>2                     </td> <td>The justification of deduction/nOn the kind of data need ...</td> <td>nan                                                         </td> <td>0             </td> <td>nan                                                         </td> <td>nan                                                         </td> <td>nan                                                         </td>\n",
       "        </tr>\n",
       "    </tbody>\n",
       "        <tr>\n",
       "            <td>32        </td> <td>Understanding Understanding Mathematics                     </td> <td>1978</td> <td>2     </td> <td>4    </td> <td>361-383</td> <td>October</td> <td>Edwina Rissland Michener             Massachusetts Insti ...</td> <td>1             </td> <td>Original Article</td> <td>nan     </td> <td>10.1207/s15516709cog0204_3</td> <td>  Bourbaki, N., “The Architecture of Mathematics”. The A ...</td> <td>26               </td> <td>Bourbaki, N./n1950/nEilenberg, S./nN., Steenrod/n1973/nF ...</td> <td>The American Mathematical Monthly/nDoctoral dissertation ...</td> <td>Foundations of Algebraic Topology/nMathematics as an Edu ...</td> <td>“The Architecture of Mathematics”/nFoundations of Algebr ...</td> <td>0                     </td> <td>“The Architecture of Mathematics”/nEpistemology, Represe ...</td> <td>Alison G. Lynch, Elise Lockwood, A comparison between ma ...</td> <td>54            </td> <td>Alison G. Lynch/nElise Lockwood/n2017/nOrly Buchbinder/n ...</td> <td>The Journal of Mathematical Behavior/nThe Journal of Mat ...</td> <td>In this paper we look at some of the ingredients and pro ...</td>\n",
       "        </tr>\n",
       "    </tbody>\n",
       "        <tr>\n",
       "            <td>33        </td> <td>On Deriving Aspectual Sense                                 </td> <td>1978</td> <td>2     </td> <td>4    </td> <td>385-390</td> <td>October</td> <td>Bonnie Lynn Webber             University of Pennsylvani ...</td> <td>1             </td> <td>Original Article</td> <td>nan     </td> <td>10.1207/s15516709cog0204_4</td> <td>  Collins, A., Fragments of a theory of human plausibili ...</td> <td>4                </td> <td>Collins, A./nJuly, 1978/nMontague, R./n1974/nSteedman, M ...</td> <td>nan                                                         </td> <td>Proceedings of TINLA P-2/nFormal philosophy: Selected pa ...</td> <td>Fragments of a theory of human plausibility reasoning/nU ...</td> <td>0                     </td> <td>nan                                                         </td> <td>nan                                                         </td> <td>0             </td> <td>nan                                                         </td> <td>nan                                                         </td> <td>In his recent article “Verbs, Time and Modality,” M. J.  ...</td>\n",
       "        </tr>\n",
       "    </tbody>\n",
       "        <tr>\n",
       "            <td>34        </td> <td>A Conceptual Analysis of the Verbs Need and Want†           </td> <td>1978</td> <td>2     </td> <td>4    </td> <td>391-396</td> <td>October</td> <td>Robert WilenskyCorresponding author             Universi ...</td> <td>1             </td> <td>Original Article</td> <td>nan     </td> <td>10.1207/s15516709cog0204_5</td> <td>  Schank, R. C., & Abelson, R. P.  Scripts, plans, goals ...</td> <td>2                </td> <td>Schank, R. C./nAbelson, R. P./n1977/nSchank, R. C./nWile ...</td> <td>nan                                                         </td> <td>Scripts, plans, goals, and understanding/nIn the Proceed ...</td> <td>Scripts, plans, goals, and understanding/nA Goal Directe ...</td> <td>0                     </td> <td>nan                                                         </td> <td>nan                                                         </td> <td>0             </td> <td>nan                                                         </td> <td>nan                                                         </td> <td>nan                                                         </td>\n",
       "        </tr>\n",
       "    </tbody>\n",
       "        <tr>\n",
       "            <td>35        </td> <td>A Critical Perspective on KRL                               </td> <td>1979</td> <td>3     </td> <td>1    </td> <td>1-28   </td> <td>January</td> <td>Wendy Lehnert,             Yale University/nYorick Wilks ...</td> <td>2             </td> <td>Original Article</td> <td>nan     </td> <td>10.1207/s15516709cog0301_1</td> <td>  Bobrow, D. G., Kaplan, R. M., Norman, D. A., Thompson, ...</td> <td>27               </td> <td>Bobrow, D. G./nKaplan, R. M./nNorman, D. A./nThompson, H ...</td> <td>Artificial Intelligence/nCognitive Science/nLanguage/nEx ...</td> <td>In Advance Papers of the Fifth International Joint Confe ...</td> <td>GUS, a frame driven dialog system/nAn Overview of KRL-0, ...</td> <td>0                     </td> <td>GUS, a frame driven dialog system/nAn Overview of KRL-0, ...</td> <td>Handbook of VLSI Chip Design and Expert Systems, 1993, 5 ...</td> <td>8             </td> <td>1993/nYorick Wilks/nDann Fass/n1992/n1987/nDik Gregory/n ...</td> <td>Computers & Mathematics with Applications/nIEEE Transact ...</td> <td>nan                                                         </td>\n",
       "        </tr>\n",
       "    </tbody>\n",
       "</table>\n",
       "<p>... (1595 rows omitted)</p"
      ],
      "text/plain": [
       "<IPython.core.display.HTML object>"
      ]
     },
     "metadata": {},
     "output_type": "display_data"
    }
   ],
   "source": [
    "df.show(35)"
   ]
  },
  {
   "cell_type": "markdown",
   "metadata": {},
   "source": [
    "The 'author_and_details' column in the dataframe contains author and affiliation data."
   ]
  },
  {
   "cell_type": "code",
   "execution_count": 112,
   "metadata": {},
   "outputs": [
    {
     "name": "stdout",
     "output_type": "stream",
     "text": [
      "['nan' 'Allan Collins'\n",
      " 'Daniel G. Bobrow,Corresponding author             Xerox Palo Alto Research Center/nTerry Winograd             Stanford University'\n",
      " 'Wendy LehnertCorresponding author             Yale University'\n",
      " 'Andrew Ortony,Corresponding author             University of Illinois at Urbana-Champaign/nRichard C. Anderson             University of Illinois at Urbana-Champaign'\n",
      " 'Professor Ira Goldstein,Corresponding author             Massachusetts Institute of Technology/nSeymour Papert             Massachusetts Institute of Technology'\n",
      " 'John R. AndersonCorresponding author             Yale University'\n",
      " 'Jerome A. Feldman,Corresponding author             University of Rochester/nRobert F. Sproull             Xerox Palo Alto Research Center'\n",
      " 'R. Bhaskar,             Carnegie-Mellon University/nHerbert A. SimonCorresponding author             Carnegie-Mellon University'\n",
      " 'M. J. SteedmanCorresponding author             University of Sussex'\n",
      " 'Yorick Wilks             University of Edinbur̀gh'\n",
      " 'Stephen M. Kosslyn,Corresponding author             The Johns Hopkins University/nSteven P. Shwartz             The Johns Hopkins University'\n",
      " 'J. R. Hayes,Corresponding author             Carnegie-Mellon University/nD. A. Waterman,             Carnegie-Mellon University/n Now at Information Sciences Department. Rand Corporation. C. S. Robinson             Carnegie-Mellon University'\n",
      " 'Eugene CharniakCorresponding author             University of Geneva'\n",
      " 'James A. Levin,Corresponding author             USC Information Sciences Institute/nJames A. Moore             USC Information Sciences Institute'\n",
      " 'Roger C. SchankCorresponding author             Yale University/n The research described here is funded by the Office of Naval Research under contract N00014-75C-1111. '\n",
      " 'Jean HayesCorresponding author             University of Edinburgh'\n",
      " 'P. N. Johnson-LairdCorresponding author             University of Sussex'\n",
      " 'Jaime G. Carbonell JrCorresponding author             Yale University'\n",
      " 'Andrew OrtonyCorresponding author             University of Illinois at Urbana-Champaign'\n",
      " 'Drew McDermottCorresponding author             Yale University'\n",
      " 'Laurence MillerCorresponding author             Harvard University'\n",
      " 'Benjamin KuipersCorresponding author             Massachusetts Institute of Technology'\n",
      " 'John Seely Brown,             Bolt Beranek and Newman/nRichard R. BurtonCorresponding author             Bolt Beranek and Newman'\n",
      " 'Eugene Charniak             Computer Science Box F Brown University Providence R.I. 02912'\n",
      " 'Bertram Bruce,             Bolt Beranek and Newman/nDenis Newman             University of California at San Diego'\n",
      " 'Robert Wilensky             Yale University'\n",
      " 'George Lakoff             University of California, Berkeley'\n",
      " 'Drew McDermott             Yale University'\n",
      " 'Rachel Reichman             Harvard University and Bolt Beranek and Newman'\n",
      " 'David Isles             Tufts University'\n",
      " 'Edwina Rissland Michener             Massachusetts Institute of Technology'\n",
      " 'Bonnie Lynn Webber             University of Pennsylvania and Bolt Beranek and Newman, Inc.'\n",
      " 'Robert WilenskyCorresponding author             University of California at Berkeley']\n",
      "<class 'numpy.str_'>\n"
     ]
    }
   ],
   "source": [
    "df_ad = df['authors_and_details'][0:34]\n",
    "df_ad = df_ad\n",
    "print(df_ad)\n",
    "print(type(df_ad[4]))"
   ]
  },
  {
   "cell_type": "code",
   "execution_count": 113,
   "metadata": {},
   "outputs": [
    {
     "name": "stdout",
     "output_type": "stream",
     "text": [
      "range(0, 34)\n"
     ]
    }
   ],
   "source": [
    "df_ad[2].split('\\n')#df['authors_and_details'][2]\n",
    "print(range(len(df_ad)))"
   ]
  },
  {
   "cell_type": "code",
   "execution_count": 117,
   "metadata": {},
   "outputs": [
    {
     "data": {
      "text/plain": [
       "[['Allan Collins'],\n",
       " ['Daniel G. Bobrow,Corresponding author             Xerox Palo Alto Research Center',\n",
       "  'Terry Winograd             Stanford University'],\n",
       " ['Wendy LehnertCorresponding author             Yale University'],\n",
       " ['Andrew Ortony,Corresponding author             University of Illinois at Urbana-Champaign',\n",
       "  'Richard C. Anderson             University of Illinois at Urbana-Champaign'],\n",
       " ['Professor Ira Goldstein,Corresponding author             Massachusetts Institute of Technology',\n",
       "  'Seymour Papert             Massachusetts Institute of Technology'],\n",
       " ['John R. AndersonCorresponding author             Yale University'],\n",
       " ['Jerome A. Feldman,Corresponding author             University of Rochester',\n",
       "  'Robert F. Sproull             Xerox Palo Alto Research Center'],\n",
       " ['R. Bhaskar,             Carnegie-Mellon University',\n",
       "  'Herbert A. SimonCorresponding author             Carnegie-Mellon University'],\n",
       " ['M. J. SteedmanCorresponding author             University of Sussex'],\n",
       " ['Yorick Wilks             University of Edinbur̀gh'],\n",
       " ['Stephen M. Kosslyn,Corresponding author             The Johns Hopkins University',\n",
       "  'Steven P. Shwartz             The Johns Hopkins University'],\n",
       " ['J. R. Hayes,Corresponding author             Carnegie-Mellon University',\n",
       "  'D. A. Waterman,             Carnegie-Mellon University',\n",
       "  ' Now at Information Sciences Department. Rand Corporation. C. S. Robinson             Carnegie-Mellon University'],\n",
       " ['Eugene CharniakCorresponding author             University of Geneva'],\n",
       " ['James A. Levin,Corresponding author             USC Information Sciences Institute',\n",
       "  'James A. Moore             USC Information Sciences Institute'],\n",
       " ['Roger C. SchankCorresponding author             Yale University',\n",
       "  ' The research described here is funded by the Office of Naval Research under contract N00014-75C-1111. '],\n",
       " ['Jean HayesCorresponding author             University of Edinburgh'],\n",
       " ['P. N. Johnson-LairdCorresponding author             University of Sussex'],\n",
       " ['Jaime G. Carbonell JrCorresponding author             Yale University'],\n",
       " ['Andrew OrtonyCorresponding author             University of Illinois at Urbana-Champaign'],\n",
       " ['Drew McDermottCorresponding author             Yale University'],\n",
       " ['Laurence MillerCorresponding author             Harvard University'],\n",
       " ['Benjamin KuipersCorresponding author             Massachusetts Institute of Technology'],\n",
       " ['John Seely Brown,             Bolt Beranek and Newman',\n",
       "  'Richard R. BurtonCorresponding author             Bolt Beranek and Newman'],\n",
       " ['Eugene Charniak             Computer Science Box F Brown University Providence R.I. 02912'],\n",
       " ['Bertram Bruce,             Bolt Beranek and Newman',\n",
       "  'Denis Newman             University of California at San Diego'],\n",
       " ['Robert Wilensky             Yale University'],\n",
       " ['George Lakoff             University of California, Berkeley'],\n",
       " ['Drew McDermott             Yale University'],\n",
       " ['Rachel Reichman             Harvard University and Bolt Beranek and Newman'],\n",
       " ['David Isles             Tufts University'],\n",
       " ['Edwina Rissland Michener             Massachusetts Institute of Technology'],\n",
       " ['Bonnie Lynn Webber             University of Pennsylvania and Bolt Beranek and Newman, Inc.'],\n",
       " ['Robert WilenskyCorresponding author             University of California at Berkeley']]"
      ]
     },
     "execution_count": 117,
     "metadata": {},
     "output_type": "execute_result"
    }
   ],
   "source": [
    "#create list to store all the orig rows\n",
    "df_namesplit = []\n",
    "\n",
    "for i in range(1, len(df_ad)):\n",
    "        \n",
    "    temp = df_ad[i].split('/n')\n",
    "    df_namesplit.append(temp)\n",
    "\n",
    "df_namesplit"
   ]
  },
  {
   "cell_type": "code",
   "execution_count": 115,
   "metadata": {},
   "outputs": [],
   "source": [
    "def clearCorresponding(author):\n",
    "    result = []\n",
    "    if ',' in author:\n",
    "\n",
    "        endIndex = author.find(',')\n",
    "        result.append(author[:endIndex])\n",
    "        return result\n",
    "    \n",
    "    elif 'Corresponding author' in author:\n",
    "        endIndex = author.find('Corresponding author')\n",
    "        \n",
    "        result.append(author[:endIndex])\n",
    "        return result\n",
    "   \n",
    "    else:\n",
    "        return author"
   ]
  },
  {
   "cell_type": "code",
   "execution_count": 116,
   "metadata": {},
   "outputs": [
    {
     "data": {
      "text/html": [
       "<table border=\"1\" class=\"dataframe\">\n",
       "    <thead>\n",
       "        <tr>\n",
       "            <th>Corresponding Author</th> <th>Author</th> <th>Department/University</th>\n",
       "        </tr>\n",
       "    </thead>\n",
       "    <tbody>\n",
       "        <tr>\n",
       "            <td>0                   </td> <td>Allan Collins                                               </td> <td>NaN                                                         </td>\n",
       "        </tr>\n",
       "    </tbody>\n",
       "        <tr>\n",
       "            <td>1                   </td> <td>Daniel G. Bobrow                                            </td> <td>Xerox Palo Alto Research Center                             </td>\n",
       "        </tr>\n",
       "    </tbody>\n",
       "        <tr>\n",
       "            <td>0                   </td> <td>Terry Winograd                                              </td> <td>Stanford University                                         </td>\n",
       "        </tr>\n",
       "    </tbody>\n",
       "        <tr>\n",
       "            <td>1                   </td> <td>Wendy Lehnert                                               </td> <td>Yale University                                             </td>\n",
       "        </tr>\n",
       "    </tbody>\n",
       "        <tr>\n",
       "            <td>1                   </td> <td>Andrew Ortony                                               </td> <td>University of Illinois at Urbana-Champaign                  </td>\n",
       "        </tr>\n",
       "    </tbody>\n",
       "        <tr>\n",
       "            <td>0                   </td> <td>Richard C. Anderson                                         </td> <td>University of Illinois at Urbana-Champaign                  </td>\n",
       "        </tr>\n",
       "    </tbody>\n",
       "        <tr>\n",
       "            <td>1                   </td> <td>Professor Ira Goldstein                                     </td> <td>Massachusetts Institute of Technology                       </td>\n",
       "        </tr>\n",
       "    </tbody>\n",
       "        <tr>\n",
       "            <td>0                   </td> <td>Seymour Papert                                              </td> <td>Massachusetts Institute of Technology                       </td>\n",
       "        </tr>\n",
       "    </tbody>\n",
       "        <tr>\n",
       "            <td>1                   </td> <td>John R. Anderson                                            </td> <td>Yale University                                             </td>\n",
       "        </tr>\n",
       "    </tbody>\n",
       "        <tr>\n",
       "            <td>1                   </td> <td>Jerome A. Feldman                                           </td> <td>University of Rochester                                     </td>\n",
       "        </tr>\n",
       "    </tbody>\n",
       "        <tr>\n",
       "            <td>0                   </td> <td>Robert F. Sproull                                           </td> <td>Xerox Palo Alto Research Center                             </td>\n",
       "        </tr>\n",
       "    </tbody>\n",
       "        <tr>\n",
       "            <td>0                   </td> <td>R. Bhaskar                                                  </td> <td>Carnegie-Mellon University                                  </td>\n",
       "        </tr>\n",
       "    </tbody>\n",
       "        <tr>\n",
       "            <td>1                   </td> <td>Herbert A. Simon                                            </td> <td>Carnegie-Mellon University                                  </td>\n",
       "        </tr>\n",
       "    </tbody>\n",
       "        <tr>\n",
       "            <td>1                   </td> <td>M. J. Steedman                                              </td> <td>University of Sussex                                        </td>\n",
       "        </tr>\n",
       "    </tbody>\n",
       "        <tr>\n",
       "            <td>0                   </td> <td>Yorick Wilks                                                </td> <td>University of Edinbur̀gh                                    </td>\n",
       "        </tr>\n",
       "    </tbody>\n",
       "        <tr>\n",
       "            <td>1                   </td> <td>Stephen M. Kosslyn                                          </td> <td>The Johns Hopkins University                                </td>\n",
       "        </tr>\n",
       "    </tbody>\n",
       "        <tr>\n",
       "            <td>0                   </td> <td>Steven P. Shwartz                                           </td> <td>The Johns Hopkins University                                </td>\n",
       "        </tr>\n",
       "    </tbody>\n",
       "        <tr>\n",
       "            <td>1                   </td> <td>J. R. Hayes                                                 </td> <td>Carnegie-Mellon University                                  </td>\n",
       "        </tr>\n",
       "    </tbody>\n",
       "        <tr>\n",
       "            <td>0                   </td> <td>D. A. Waterman                                              </td> <td>Carnegie-Mellon University                                  </td>\n",
       "        </tr>\n",
       "    </tbody>\n",
       "        <tr>\n",
       "            <td>0                   </td> <td> Now at Information Sciences Department. Rand Corporatio ...</td> <td>Carnegie-Mellon University                                  </td>\n",
       "        </tr>\n",
       "    </tbody>\n",
       "        <tr>\n",
       "            <td>1                   </td> <td>Eugene Charniak                                             </td> <td>University of Geneva                                        </td>\n",
       "        </tr>\n",
       "    </tbody>\n",
       "        <tr>\n",
       "            <td>1                   </td> <td>James A. Levin                                              </td> <td>USC Information Sciences Institute                          </td>\n",
       "        </tr>\n",
       "    </tbody>\n",
       "        <tr>\n",
       "            <td>0                   </td> <td>James A. Moore                                              </td> <td>USC Information Sciences Institute                          </td>\n",
       "        </tr>\n",
       "    </tbody>\n",
       "        <tr>\n",
       "            <td>1                   </td> <td>Roger C. Schank                                             </td> <td>Yale University                                             </td>\n",
       "        </tr>\n",
       "    </tbody>\n",
       "        <tr>\n",
       "            <td>0                   </td> <td> The research described here is funded by the Office of  ...</td> <td>NaN                                                         </td>\n",
       "        </tr>\n",
       "    </tbody>\n",
       "        <tr>\n",
       "            <td>1                   </td> <td>Jean Hayes                                                  </td> <td>University of Edinburgh                                     </td>\n",
       "        </tr>\n",
       "    </tbody>\n",
       "        <tr>\n",
       "            <td>1                   </td> <td>P. N. Johnson-Laird                                         </td> <td>University of Sussex                                        </td>\n",
       "        </tr>\n",
       "    </tbody>\n",
       "        <tr>\n",
       "            <td>1                   </td> <td>Jaime G. Carbonell Jr                                       </td> <td>Yale University                                             </td>\n",
       "        </tr>\n",
       "    </tbody>\n",
       "        <tr>\n",
       "            <td>1                   </td> <td>Andrew Ortony                                               </td> <td>University of Illinois at Urbana-Champaign                  </td>\n",
       "        </tr>\n",
       "    </tbody>\n",
       "        <tr>\n",
       "            <td>1                   </td> <td>Drew McDermott                                              </td> <td>Yale University                                             </td>\n",
       "        </tr>\n",
       "    </tbody>\n",
       "        <tr>\n",
       "            <td>1                   </td> <td>Laurence Miller                                             </td> <td>Harvard University                                          </td>\n",
       "        </tr>\n",
       "    </tbody>\n",
       "        <tr>\n",
       "            <td>1                   </td> <td>Benjamin Kuipers                                            </td> <td>Massachusetts Institute of Technology                       </td>\n",
       "        </tr>\n",
       "    </tbody>\n",
       "        <tr>\n",
       "            <td>0                   </td> <td>John Seely Brown                                            </td> <td>Bolt Beranek and Newman                                     </td>\n",
       "        </tr>\n",
       "    </tbody>\n",
       "        <tr>\n",
       "            <td>1                   </td> <td>Richard R. Burton                                           </td> <td>Bolt Beranek and Newman                                     </td>\n",
       "        </tr>\n",
       "    </tbody>\n",
       "        <tr>\n",
       "            <td>0                   </td> <td>Eugene Charniak                                             </td> <td>Computer Science Box F Brown University Providence R.I.  ...</td>\n",
       "        </tr>\n",
       "    </tbody>\n",
       "        <tr>\n",
       "            <td>0                   </td> <td>Bertram Bruce                                               </td> <td>Bolt Beranek and Newman                                     </td>\n",
       "        </tr>\n",
       "    </tbody>\n",
       "        <tr>\n",
       "            <td>0                   </td> <td>Denis Newman                                                </td> <td>University of California at San Diego                       </td>\n",
       "        </tr>\n",
       "    </tbody>\n",
       "        <tr>\n",
       "            <td>0                   </td> <td>Robert Wilensky                                             </td> <td>Yale University                                             </td>\n",
       "        </tr>\n",
       "    </tbody>\n",
       "        <tr>\n",
       "            <td>0                   </td> <td>George Lakoff                                               </td> <td>University of California, Berkeley                          </td>\n",
       "        </tr>\n",
       "    </tbody>\n",
       "        <tr>\n",
       "            <td>0                   </td> <td>Drew McDermott                                              </td> <td>Yale University                                             </td>\n",
       "        </tr>\n",
       "    </tbody>\n",
       "        <tr>\n",
       "            <td>0                   </td> <td>Rachel Reichman                                             </td> <td>Harvard University and Bolt Beranek and Newman              </td>\n",
       "        </tr>\n",
       "    </tbody>\n",
       "        <tr>\n",
       "            <td>0                   </td> <td>David Isles                                                 </td> <td>Tufts University                                            </td>\n",
       "        </tr>\n",
       "    </tbody>\n",
       "        <tr>\n",
       "            <td>0                   </td> <td>Edwina Rissland Michener                                    </td> <td>Massachusetts Institute of Technology                       </td>\n",
       "        </tr>\n",
       "    </tbody>\n",
       "        <tr>\n",
       "            <td>0                   </td> <td>Bonnie Lynn Webber                                          </td> <td>University of Pennsylvania and Bolt Beranek and Newman, Inc.</td>\n",
       "        </tr>\n",
       "    </tbody>\n",
       "        <tr>\n",
       "            <td>1                   </td> <td>Robert Wilensky                                             </td> <td>University of California at Berkeley                        </td>\n",
       "        </tr>\n",
       "    </tbody>\n",
       "</table>"
      ],
      "text/plain": [
       "<IPython.core.display.HTML object>"
      ]
     },
     "metadata": {},
     "output_type": "display_data"
    }
   ],
   "source": [
    "results = Table(make_array(\"Corresponding Author\", \"Author\", \"Department/University\"))\n",
    "# For each sublist in the list of lists df_namesplit\n",
    "for i in range(len(df_namesplit)):\n",
    "    num = df_namesplit[i]\n",
    "    for j in range(len(num)):\n",
    "        corr_auth = 0\n",
    "        element = df_namesplit[i][j].split('             ')\n",
    "        if len(element) > 1:\n",
    "            author = element[0]\n",
    "            #print (author[0])\n",
    "            \n",
    "            author = clearCorresponding(author)\n",
    "            \n",
    "            dept = element[1]\n",
    "            \n",
    "            if(\"Corresponding author\" in df_namesplit[i][j]):\n",
    "                corr_auth = 1\n",
    "            #print(type(corr_auth))\n",
    "            #newRow = make_array(corr_auth,author, dept)\n",
    "            results = results.with_row([corr_auth,author, dept])\n",
    "        else:            \n",
    "            author = clearCorresponding(element[0])\n",
    "            dept = \"NaN\"\n",
    "            \n",
    "            #newRow = make_array(corr_auth,author, dept)\n",
    "            results = results.with_row([corr_auth,author, dept])\n",
    "        \n",
    "results.show()"
   ]
  },
  {
   "cell_type": "code",
   "execution_count": 111,
   "metadata": {},
   "outputs": [
    {
     "data": {
      "text/plain": [
       "['Daniel G. Bobrow,Corresponding author             Xerox Palo Alto Research Center',\n",
       " 'Terry Winograd             Stanford University']"
      ]
     },
     "execution_count": 111,
     "metadata": {},
     "output_type": "execute_result"
    }
   ],
   "source": [
    "# index the row (e.g. 2nd) and split by /n character\n",
    "df['authors_and_details'][2].split('/n')"
   ]
  },
  {
   "cell_type": "code",
   "execution_count": null,
   "metadata": {
    "collapsed": true
   },
   "outputs": [],
   "source": [
    "# the 0th element contains the information of the first author\n",
    "df['authors_and_details'][2].split('/n')[0]"
   ]
  },
  {
   "cell_type": "code",
   "execution_count": null,
   "metadata": {
    "collapsed": true
   },
   "outputs": [],
   "source": [
    "# further split author info to separate name and affiliation\n",
    "au1 = df['authors_and_details'][2].split('/n')[0].split('             ')"
   ]
  },
  {
   "cell_type": "code",
   "execution_count": null,
   "metadata": {
    "collapsed": true
   },
   "outputs": [],
   "source": [
    "au1"
   ]
  },
  {
   "cell_type": "code",
   "execution_count": null,
   "metadata": {
    "collapsed": true
   },
   "outputs": [],
   "source": [
    "# find the corresponding author and delete that part of the string ',Corresponding author'\n",
    "if 'Corresponding author' in au1[0]:\n",
    "    endind = au1[0].find(',Corresponding author')\n",
    "    print(endind)\n",
    "    print(au1[0][:endind], '- ', au1[1])"
   ]
  },
  {
   "cell_type": "code",
   "execution_count": null,
   "metadata": {
    "collapsed": true
   },
   "outputs": [],
   "source": [
    "# make a new dataset\n"
   ]
  },
  {
   "cell_type": "markdown",
   "metadata": {},
   "source": [
    "### The latter ones have a little more information\n",
    "Let's go to index 1500"
   ]
  },
  {
   "cell_type": "code",
   "execution_count": null,
   "metadata": {
    "collapsed": true
   },
   "outputs": [],
   "source": [
    "df['authors_and_details'][1501].split('/n')"
   ]
  },
  {
   "cell_type": "code",
   "execution_count": null,
   "metadata": {
    "collapsed": true
   },
   "outputs": [],
   "source": [
    "df['article_name'][1501]"
   ]
  },
  {
   "cell_type": "code",
   "execution_count": null,
   "metadata": {
    "collapsed": true
   },
   "outputs": [],
   "source": []
  }
 ],
 "metadata": {
  "kernelspec": {
   "display_name": "Python 3",
   "language": "python",
   "name": "python3"
  },
  "language_info": {
   "codemirror_mode": {
    "name": "ipython",
    "version": 3
   },
   "file_extension": ".py",
   "mimetype": "text/x-python",
   "name": "python",
   "nbconvert_exporter": "python",
   "pygments_lexer": "ipython3",
   "version": "3.6.3"
  }
 },
 "nbformat": 4,
 "nbformat_minor": 2
}
