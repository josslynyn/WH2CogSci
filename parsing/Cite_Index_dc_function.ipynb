{
 "cells": [
  {
   "cell_type": "code",
   "execution_count": 1,
   "metadata": {
    "collapsed": true
   },
   "outputs": [],
   "source": [
    "import pandas as pd\n",
    "import string as st\n",
    "import matplotlib\n",
    "import numpy as np\n",
    "import os\n",
    "from sklearn import decomposition, metrics, cluster\n",
    "\n",
    "%matplotlib inline\n",
    "import matplotlib.pyplot as plt"
   ]
  },
  {
   "cell_type": "code",
   "execution_count": 2,
   "metadata": {},
   "outputs": [],
   "source": [
    "#Enter the 'year', i.e. '2000', '2007', or '2014', of citation data that you want to look at\n",
    "\n",
    "def make_JMatrix(year):\n",
    "    Jlist = os.listdir('../data/Cogs_'+year+'/Cited_'+year)\n",
    "\n",
    "    #Create list of Journal file names\n",
    "\n",
    "    Jlist = os.listdir('../data/Cogs_'+year+'/Cited_'+year)\n",
    "    if '.DS_Store' in Jlist:\n",
    "        Jlist.remove('.DS_Store')\n",
    "    Jlist.sort()\n",
    "\n",
    "\n",
    "    jj=''.join(Jlist)\n",
    "    Jabbr=jj.split(\".csv\")\n",
    "    Jabbr=Jabbr[:-1] #for some reason the loop can't run bc there is some '' blank entry in the list\n",
    "\n",
    "    #Creates Dictionary for mapping file name to file abbreviation\n",
    "    JDict_map=dict(zip(Jabbr, Jlist))\n",
    "    df_names=Jlist\n",
    "    JMatrix=pd.DataFrame(data=np.zeros((len(Jlist),len(Jlist))), index=df_names, columns= df_names)\n",
    "\n",
    "    # For loop plan\n",
    "    data_folder = '../data/Cogs_'+year+'/Cited_'+year+'/'\n",
    "    for i, Ji in enumerate(Jlist):\n",
    "        print(i, Ji)\n",
    "        file = open(data_folder+Jlist[i],'r')\n",
    "        #file = open(Jlist[i],'r')\n",
    "        data = pd.read_csv(file)[:-2]    \n",
    "        #for j, Jj in enumerate(Jabbr): original\n",
    "        for j, Jj in enumerate(Jlist):\n",
    "            #j_abbr = Jj.split('.csv')[0]\n",
    "            num_j_cited_i_row = data[data['Unnamed: 2']==Jabbr[j]]['Unnamed: 3']\n",
    "            try:\n",
    "                num_j_cited_i = int(num_j_cited_i_row)\n",
    "            except:\n",
    "                num_j_cited_i = 0        \n",
    "\n",
    "            JMatrix[Jlist[i]][JDict_map[Jabbr[j]]] = num_j_cited_i\n",
    "\n",
    "    # each column is the incoming citations INTO that journal (at col j)\n",
    "    # Looking at the parent journal cognitive sci the which is at the top of this graph,\n",
    "    # the journals on the left are citing the journals at the top x number of times from 2007 and all prev years\n",
    "    # THE DATABASE, JCReport, calls these \"Citation Values\"\n",
    "\n",
    "    plt.figure(figsize=(10,10))\n",
    "    plt.imshow(np.log(JMatrix))"
   ]
  },
  {
   "cell_type": "code",
   "execution_count": 3,
   "metadata": {},
   "outputs": [
    {
     "name": "stdout",
     "output_type": "stream",
     "text": [
      "0 AM J PSYCHOL.csv\n",
      "1 AM PSYCHOL.csv\n",
      "2 BEHAV BRAIN SCI.csv\n",
      "3 BEHAV PROCESS.csv\n",
      "4 BRIT J PSYCHOL.csv\n",
      "5 CHILD DEV.csv\n",
      "6 COGNITION INSTRUCT.csv\n",
      "7 COGNITION.csv\n",
      "8 COGNITIVE PSYCHOL.csv\n",
      "9 COGNITIVE SCI.csv\n",
      "10 CONTEMP EDUC PSYCHOL.csv\n",
      "11 DEV PSYCHOL.csv\n",
      "12 DEV REV.csv\n",
      "13 HUM FACTORS.csv\n",
      "14 INT J HUM-COMPUT ST.csv\n",
      "15 INT J SCI EDUC.csv\n",
      "16 J CHILD LANG.csv\n",
      "17 J COMP PSYCHOL.csv\n",
      "18 J COMPUT ASSIST LEAR.csv\n",
      "19 J EDUC PSYCHOL.csv\n",
      "20 J EXP PSYCHOL ANIM B.csv\n",
      "21 J EXP PSYCHOL GEN.csv\n",
      "22 J EXP PSYCHOL LEARN.csv\n",
      "23 J HUM EVOL.csv\n",
      "24 J LEARN SCI.csv\n",
      "25 J MEM LANG.csv\n",
      "26 J PERS SOC PSYCHOL.csv\n",
      "27 J PRAGMATICS.csv\n",
      "28 J PSYCHOLINGUIST RES.csv\n",
      "29 J RES SCI TEACH.csv\n",
      "30 LEARN INSTR.csv\n",
      "31 MEM COGNITION.csv\n",
      "32 MONOGR SOC RES CHILD.csv\n",
      "33 ORGAN BEHAV HUM DEC.csv\n",
      "34 PHILOS PSYCHOL.csv\n",
      "35 PSYCHOL REV.csv\n",
      "36 PSYCHOL SCI.csv\n",
      "37 PSYCHON B REV.csv\n",
      "38 TRAV HUMAIN.csv\n"
     ]
    },
    {
     "name": "stderr",
     "output_type": "stream",
     "text": [
      "/Applications/anaconda/lib/python3.6/site-packages/ipykernel/__main__.py:47: RuntimeWarning: divide by zero encountered in log\n"
     ]
    },
    {
     "data": {
      "image/png": "[encoded data removed]",
      "text/plain": [
       "<matplotlib.figure.Figure at 0x1191f3fd0>"
      ]
     },
     "metadata": {},
     "output_type": "display_data"
    }
   ],
   "source": [
    "make_JMatrix('2000')"
   ]
  },
  {
   "cell_type": "code",
   "execution_count": 4,
   "metadata": {},
   "outputs": [
    {
     "name": "stdout",
     "output_type": "stream",
     "text": [
      "0 AM J PSYCHOL.csv\n",
      "1 BEHAV BRAIN SCI.csv\n",
      "2 BEHAV RES METHODS.csv\n",
      "3 BRAIN LANG.csv\n",
      "4 BRIT J PSYCHOL.csv\n",
      "5 COGN LINGUIST.csv\n",
      "6 COGN SYST RES.csv\n",
      "7 COGNITION.csv\n",
      "8 COGNITIVE PSYCHOL.csv\n",
      "9 COGNITIVE SCI.csv\n",
      "10 COMPUT EDUC.csv\n",
      "11 COMPUT HUM BEHAV.csv\n",
      "12 CONTEMP EDUC PSYCHOL.csv\n",
      "13 DEV PSYCHOL.csv\n",
      "14 DEVELOPMENTAL SCI.csv\n",
      "15 EDUC PSYCHOL REV.csv\n",
      "16 ETR&D-EDUC TECH RES.csv\n",
      "17 INT J HUM-COMPUT ST.csv\n",
      "18 INT J SCI EDUC.csv\n",
      "19 J CHILD LANG.csv\n",
      "20 J COGNITIVE NEUROSCI.csv\n",
      "21 J EDUC PSYCHOL.csv\n",
      "22 J ENG EDUC.csv\n",
      "23 J EXP PSYCHOL GEN.csv\n",
      "24 J EXP PSYCHOL HUMAN.csv\n",
      "25 J EXP PSYCHOL LEARN.csv\n",
      "26 J LEARN SCI.csv\n",
      "27 J MEM LANG.csv\n",
      "28 J PERS SOC PSYCHOL.csv\n",
      "29 LANG COGNITIVE PROC.csv\n",
      "30 LEARN INSTR.csv\n",
      "31 MEM COGNITION.csv\n",
      "32 PSYCHOL BULL.csv\n",
      "33 PSYCHOL LEARN MOTIV.csv\n",
      "34 PSYCHOL REV.csv\n",
      "35 PSYCHOL SCI.csv\n",
      "36 PSYCHON B REV.csv\n",
      "37 Q J EXP PSYCHOL.csv\n",
      "38 THINK REASONING.csv\n",
      "39 TRENDS COGN SCI.csv\n"
     ]
    },
    {
     "name": "stderr",
     "output_type": "stream",
     "text": [
      "/Applications/anaconda/lib/python3.6/site-packages/ipykernel/__main__.py:47: RuntimeWarning: divide by zero encountered in log\n"
     ]
    },
    {
     "data": {
      "image/png": "[encoded data removed]",
      "text/plain": [
       "<matplotlib.figure.Figure at 0x119686048>"
      ]
     },
     "metadata": {},
     "output_type": "display_data"
    }
   ],
   "source": [
    "make_JMatrix('2007')"
   ]
  },
  {
   "cell_type": "code",
   "execution_count": 5,
   "metadata": {},
   "outputs": [
    {
     "name": "stdout",
     "output_type": "stream",
     "text": [
      "0 ACTA PSYCHOL.csv\n",
      "1 BEHAV BRAIN SCI.csv\n",
      "2 CHILD DEV.csv\n",
      "3 COGN NEUROPSYCHOL.csv\n",
      "4 COGN PROCESS.csv\n",
      "5 COGNITION.csv\n",
      "6 COGNITIVE PSYCHOL.csv\n",
      "7 COGNITIVE SCI.csv\n",
      "8 COMPUT EDUC.csv\n",
      "9 COMPUT HUM BEHAV.csv\n",
      "10 DEV PSYCHOL.csv\n",
      "11 DEVELOPMENTAL SCI.csv\n",
      "12 EDUC PSYCHOL REV.csv\n",
      "13 FRONT PSYCHOL.csv\n",
      "14 INSTR SCI.csv\n",
      "15 J CHILD LANG.csv\n",
      "16 J COGNITIVE NEUROSCI.csv\n",
      "17 J EDUC PSYCHOL.csv\n",
      "18 J EXP CHILD PSYCHOL.csv\n",
      "19 J EXP PSYCHOL GEN.csv\n",
      "20 J EXP PSYCHOL HUMAN.csv\n",
      "21 J EXP PSYCHOL LEARN.csv\n",
      "22 J MEM LANG.csv\n",
      "23 J PERS SOC PSYCHOL.csv\n",
      "24 J PHONETICS.csv\n",
      "25 LANG COGNITIVE PROC.csv\n",
      "26 LEARN INSTR.csv\n",
      "27 MEM COGNITION.csv\n",
      "28 NEUROPSYCHOLOGIA.csv\n",
      "29 NEW IDEAS PSYCHOL.csv\n",
      "30 PSYCHOL BULL.csv\n",
      "31 PSYCHOL REV.csv\n",
      "32 PSYCHOL SCI.csv\n",
      "33 PSYCHON B REV.csv\n",
      "34 Q J EXP PSYCHOL.csv\n",
      "35 TOP COGN SCI.csv\n",
      "36 TRENDS COGN SCI.csv\n",
      "37 WIRES COGN SCI.csv\n"
     ]
    },
    {
     "name": "stderr",
     "output_type": "stream",
     "text": [
      "/Applications/anaconda/lib/python3.6/site-packages/ipykernel/__main__.py:47: RuntimeWarning: divide by zero encountered in log\n"
     ]
    },
    {
     "data": {
      "image/png": "[encoded data removed]",
      "text/plain": [
       "<matplotlib.figure.Figure at 0x1196860f0>"
      ]
     },
     "metadata": {},
     "output_type": "display_data"
    }
   ],
   "source": [
    "make_JMatrix('2014')"
   ]
  },
  {
   "cell_type": "markdown",
   "metadata": {
    "collapsed": true
   },
   "source": [
    "### Decomposition"
   ]
  },
  {
   "cell_type": "code",
   "execution_count": null,
   "metadata": {
    "collapsed": true
   },
   "outputs": [],
   "source": [
    "# SVD and PCA gives essentially the same answer, as it should, with rotational indeterminancy\n",
    "#citation_svd = decomposition.TruncatedSVD(n_components=20)\n",
    "citation_svd = decomposition.PCA(n_components=20, whiten=False)\n",
    "\n",
    "# apply matrix factorization to citation matrix\n",
    "citation_svd.fit(JMatrix.as_matrix())\n",
    "JMatrix_reduced = citation_svd.transform(JMatrix.as_matrix())\n",
    "\n",
    "# how many components required to capture 95% variance?\n",
    "np.where(np.cumsum(citation_svd.explained_variance_ratio_)>=0.95)[0][0]\n",
    "\n",
    "# cog sci is element 9\n",
    "ctr_j=9\n",
    "print(Jabbr[ctr_j])\n",
    "plt.figure(figsize=(15,4))\n",
    "plt.subplot(1,4,1)\n",
    "plt.plot(np.cumsum(citation_svd.explained_variance_ratio_))\n",
    "plt.subplot(1,4,2)\n",
    "plt.imshow(JMatrix_reduced)\n",
    "plt.subplot(1,4,3)\n",
    "# # Cogsci's reduced vector\n",
    "# plt.plot(JMatrix_reduced[ctr_j,:],'.')\n",
    "# # Cogsci's components\n",
    "# plt.subplot(1,4,4)\n",
    "# plt.plot(citation_svd.components_[:,ctr_j]);\n",
    "# plt.tight_layout()"
   ]
  },
  {
   "cell_type": "code",
   "execution_count": null,
   "metadata": {
    "collapsed": true
   },
   "outputs": [],
   "source": [
    "# k-means clustering\n",
    "n_clusters = 8\n",
    "clu = cluster.KMeans(n_clusters=n_clusters)\n",
    "\n",
    "clu.fit(JMatrix_reduced)\n",
    "clu_label = clu.labels_\n",
    "clu_inds = np.argsort(clu_label)\n",
    "clu_label\n",
    "clustered_J = [[Jabbr[i] for i in np.where(clu_label==query_clu)[0]] for query_clu in range(n_clusters)]\n",
    "pd.DataFrame([t for t in clustered_J], index=['Clu%i'%i for i in range(n_clusters)]).T"
   ]
  },
  {
   "cell_type": "code",
   "execution_count": null,
   "metadata": {
    "collapsed": true
   },
   "outputs": [],
   "source": []
  }
 ],
 "metadata": {
  "kernelspec": {
   "display_name": "Python 3",
   "language": "python",
   "name": "python3"
  },
  "language_info": {
   "codemirror_mode": {
    "name": "ipython",
    "version": 3
   },
   "file_extension": ".py",
   "mimetype": "text/x-python",
   "name": "python",
   "nbconvert_exporter": "python",
   "pygments_lexer": "ipython3",
   "version": "3.6.0"
  }
 },
 "nbformat": 4,
 "nbformat_minor": 2
}
